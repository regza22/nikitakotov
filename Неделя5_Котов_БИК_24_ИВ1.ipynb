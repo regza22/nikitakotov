{
  "nbformat": 4,
  "nbformat_minor": 0,
  "metadata": {
    "colab": {
      "provenance": [],
      "authorship_tag": "ABX9TyM3t3QHMUdKhYcRU6KBF+v2",
      "include_colab_link": true
    },
    "kernelspec": {
      "name": "python3",
      "display_name": "Python 3"
    },
    "language_info": {
      "name": "python"
    }
  },
  "cells": [
    {
      "cell_type": "markdown",
      "metadata": {
        "id": "view-in-github",
        "colab_type": "text"
      },
      "source": [
        "<a href=\"https://colab.research.google.com/github/regza22/nikitakotov/blob/main/%D0%9D%D0%B5%D0%B4%D0%B5%D0%BB%D1%8F5_%D0%9A%D0%BE%D1%82%D0%BE%D0%B2_%D0%91%D0%98%D0%9A_24_%D0%98%D0%921.ipynb\" target=\"_parent\"><img src=\"https://colab.research.google.com/assets/colab-badge.svg\" alt=\"Open In Colab\"/></a>"
      ]
    },
    {
      "cell_type": "code",
      "execution_count": null,
      "metadata": {
        "id": "H27zlN275IXV"
      },
      "outputs": [],
      "source": [
        "Задание 1"
      ]
    },
    {
      "cell_type": "code",
      "source": [
        "x = int(input(\"Введите целое число не меньше 2: \"))\n",
        "\n",
        "for i in range (2,6):\n",
        "  if (x % i) == 0:\n",
        "    print (i)\n",
        "    break"
      ],
      "metadata": {
        "id": "P6XCvHJW5Lde"
      },
      "execution_count": null,
      "outputs": []
    },
    {
      "cell_type": "markdown",
      "source": [
        "Задание 2"
      ],
      "metadata": {
        "id": "u9tqNxAY5Vi1"
      }
    },
    {
      "cell_type": "code",
      "source": [
        "n = int(input(\"Введите натуральное число n: \"))\n",
        "if n == 0:\n",
        "    print(0)\n",
        "elif n == 1:\n",
        "    print(1)\n",
        "else:\n",
        "    a, b = 0, 1\n",
        "    for _ in range(2, n + 1):\n",
        "        a, b = b, a + b\n",
        "    print(b)"
      ],
      "metadata": {
        "id": "pVAE-Vs55W68"
      },
      "execution_count": null,
      "outputs": []
    },
    {
      "cell_type": "markdown",
      "source": [
        "Задание 3"
      ],
      "metadata": {
        "id": "HLyqfBpH5hW-"
      }
    },
    {
      "cell_type": "code",
      "source": [
        "summ = 0\n",
        "\n",
        "while True:\n",
        "    num = int(input(\"Введите число (0 для завершения): \"))\n",
        "    if num == 0:\n",
        "        break\n",
        "    summ += num\n",
        "\n",
        "print(\"Сумма последовательности:\", summ)"
      ],
      "metadata": {
        "id": "rbqAI3gF5i0K"
      },
      "execution_count": null,
      "outputs": []
    },
    {
      "cell_type": "markdown",
      "source": [
        "Задание 4"
      ],
      "metadata": {
        "id": "YX4GVN-f5lVN"
      }
    },
    {
      "cell_type": "code",
      "source": [
        "count = 0\n",
        "prev_num = int(input(\"Введите число: \"))\n",
        "\n",
        "while True:\n",
        "    curr_num = int(input(\"Введите следующее число (0 для завершения): \"))\n",
        "    if curr_num == 0:\n",
        "        break\n",
        "    if curr_num > prev_num:\n",
        "        count += 1\n",
        "    prev_num = curr_num\n",
        "\n",
        "print(\"Количество элементов больше предыдущего:\", count)"
      ],
      "metadata": {
        "id": "-YEYi_Jo5mip"
      },
      "execution_count": null,
      "outputs": []
    },
    {
      "cell_type": "markdown",
      "source": [
        "Задание 5"
      ],
      "metadata": {
        "id": "roI2G0bF5p7f"
      }
    },
    {
      "cell_type": "code",
      "source": [
        "max1 = 0\n",
        "max2 = 0\n",
        "\n",
        "while True:\n",
        "    num = int(input(\"Введите число (0 для завершения): \"))\n",
        "    if num == 0:\n",
        "        break\n",
        "    if num > max1:\n",
        "        max2 = max1\n",
        "        max1 = num\n",
        "    elif num > max2:\n",
        "        max2 = num\n",
        "\n",
        "print(\"Второй максимум:\", max2)"
      ],
      "metadata": {
        "id": "2iEUCkhU5q50"
      },
      "execution_count": null,
      "outputs": []
    },
    {
      "cell_type": "markdown",
      "source": [
        "Задание 6"
      ],
      "metadata": {
        "id": "SkJ4QWz05thb"
      }
    },
    {
      "cell_type": "code",
      "source": [
        "n = int(input(\"Введите натуральное число N: \"))\n",
        "\n",
        "binary = \"\"\n",
        "while n > 0:\n",
        "    binary += str(n % 2)\n",
        "    n //= 2\n",
        "print (\"Двоичное представление в обратном порядке:\", binary)"
      ],
      "metadata": {
        "id": "KBF5xegn5u2r"
      },
      "execution_count": null,
      "outputs": []
    },
    {
      "cell_type": "markdown",
      "source": [
        "Задание 7"
      ],
      "metadata": {
        "id": "HVQwGJmu5xKy"
      }
    },
    {
      "cell_type": "code",
      "source": [],
      "metadata": {
        "id": "XVKcBFQA5yIx"
      },
      "execution_count": null,
      "outputs": []
    },
    {
      "cell_type": "markdown",
      "source": [
        "Задание 8"
      ],
      "metadata": {
        "id": "3reuJt4A50Tg"
      }
    },
    {
      "cell_type": "code",
      "source": [
        "n = 0\n",
        "while n < 1 or n > 1000000:\n",
        "    print(f\"Введите число от 1 до 1 000 000: \")\n",
        "    n = int(input())\n",
        "\n",
        "for sec in range(1, n + 1):\n",
        "    i = sec\n",
        "    while i > 0:\n",
        "        print(f\"{sec}, \", end=\"\")\n",
        "        i -= 1"
      ],
      "metadata": {
        "id": "jQFHGU0l510J"
      },
      "execution_count": null,
      "outputs": []
    },
    {
      "cell_type": "markdown",
      "source": [
        "Задание 9"
      ],
      "metadata": {
        "id": "byFN3q8i52ph"
      }
    },
    {
      "cell_type": "code",
      "source": [
        "def geometric_sum(a, n):\n",
        "    sum_result = 1\n",
        "    term = 1\n",
        "\n",
        "    for _ in range(1, n + 1):\n",
        "        term *= a\n",
        "        sum_result += term\n",
        "\n",
        "    return sum_result\n",
        "\n",
        "a = int(input(\"Введите число a: \"))\n",
        "n = int(input(\"Введите число n: \"))\n",
        "\n",
        "result = geometric_sum(a, n)\n",
        "print(\"Сумма геометрической прогрессии:\", result)"
      ],
      "metadata": {
        "id": "GQB38pbx56FV"
      },
      "execution_count": null,
      "outputs": []
    },
    {
      "cell_type": "markdown",
      "source": [
        "Задание 10"
      ],
      "metadata": {
        "id": "uhurNCpH56-l"
      }
    },
    {
      "cell_type": "code",
      "source": [
        "def years_to_reach(x, p, y):\n",
        "    years = 0\n",
        "    while x < y:\n",
        "        x += (x * p) // 100\n",
        "        years += 1\n",
        "    return years\n",
        "\n",
        "x = int(input(\"Введите начальную сумму вклада (x): \"))\n",
        "p = int(input(\"Введите процентную ставку (p): \"))\n",
        "y = int(input(\"Введите желаемую сумму вклада (y): \"))\n",
        "\n",
        "result = years_to_reach(x, p, y)\n",
        "print(\"Количество лет:\", result)"
      ],
      "metadata": {
        "id": "Ro3bSFpa58IN"
      },
      "execution_count": null,
      "outputs": []
    },
    {
      "cell_type": "markdown",
      "source": [
        "Задание 11"
      ],
      "metadata": {
        "id": "wLqMyjhK5-jh"
      }
    },
    {
      "cell_type": "code",
      "source": [
        "def powers_of_two(N):\n",
        "    power = 1\n",
        "    while power <= N:\n",
        "        print(power, end=' ')\n",
        "        power *= 2\n",
        "\n",
        "N = int(input(\"Введите число N: \"))\n",
        "powers_of_two(N)"
      ],
      "metadata": {
        "id": "79GR80uk5_jW"
      },
      "execution_count": null,
      "outputs": []
    },
    {
      "cell_type": "markdown",
      "source": [
        "Задание 12"
      ],
      "metadata": {
        "id": "4Wvr5lEX6CLc"
      }
    },
    {
      "cell_type": "code",
      "source": [],
      "metadata": {
        "id": "Zy98BU516EnL"
      },
      "execution_count": null,
      "outputs": []
    },
    {
      "cell_type": "markdown",
      "source": [
        "Задание 13"
      ],
      "metadata": {
        "id": "LDmAMqZO6E4i"
      }
    },
    {
      "cell_type": "code",
      "source": [],
      "metadata": {
        "id": "EWOTxjMy6Fn6"
      },
      "execution_count": null,
      "outputs": []
    }
  ]
}