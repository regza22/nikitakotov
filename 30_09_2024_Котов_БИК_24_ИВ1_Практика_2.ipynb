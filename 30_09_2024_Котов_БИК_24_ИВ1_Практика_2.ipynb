{
  "nbformat": 4,
  "nbformat_minor": 0,
  "metadata": {
    "colab": {
      "provenance": [],
      "authorship_tag": "ABX9TyO97FOl2CkPG4OzSjQxvcwH",
      "include_colab_link": true
    },
    "kernelspec": {
      "name": "python3",
      "display_name": "Python 3"
    },
    "language_info": {
      "name": "python"
    }
  },
  "cells": [
    {
      "cell_type": "markdown",
      "metadata": {
        "id": "view-in-github",
        "colab_type": "text"
      },
      "source": [
        "<a href=\"https://colab.research.google.com/github/regza22/nikitakotov/blob/main/30_09_2024_%D0%9A%D0%BE%D1%82%D0%BE%D0%B2_%D0%91%D0%98%D0%9A_24_%D0%98%D0%921_%D0%9F%D1%80%D0%B0%D0%BA%D1%82%D0%B8%D0%BA%D0%B0_2.ipynb\" target=\"_parent\"><img src=\"https://colab.research.google.com/assets/colab-badge.svg\" alt=\"Open In Colab\"/></a>"
      ]
    },
    {
      "cell_type": "markdown",
      "source": [],
      "metadata": {
        "id": "rf222BfIN5HL"
      }
    },
    {
      "cell_type": "markdown",
      "source": [
        "Задание №1"
      ],
      "metadata": {
        "id": "-_APPLzZOPxt"
      }
    },
    {
      "cell_type": "code",
      "source": [
        " a = 15\n",
        " b = 7\n",
        " c = 0.5*a*b\n",
        " print(c)"
      ],
      "metadata": {
        "colab": {
          "base_uri": "https://localhost:8080/"
        },
        "id": "OH7A1zmOORtA",
        "outputId": "b98ae330-f0fc-4277-e735-6138ea9c093d"
      },
      "execution_count": 1,
      "outputs": [
        {
          "output_type": "stream",
          "name": "stdout",
          "text": [
            "52.5\n"
          ]
        }
      ]
    },
    {
      "cell_type": "markdown",
      "source": [
        "Задание №2"
      ],
      "metadata": {
        "id": "qbpwmeY-OTBq"
      }
    },
    {
      "cell_type": "code",
      "source": [
        "a = 732\n",
        "b =a//100\n",
        "c=(a//10)%10\n",
        "d=a%10\n",
        "print(b,c,d)\n",
        "print(b)\n",
        "print(c)\n",
        "print(d)"
      ],
      "metadata": {
        "id": "LAXx-manOUZU"
      },
      "execution_count": null,
      "outputs": []
    },
    {
      "cell_type": "markdown",
      "source": [
        "Задание №3"
      ],
      "metadata": {
        "id": "wvgIswhsOUsC"
      }
    },
    {
      "cell_type": "code",
      "source": [
        "a = 63233\n",
        "b = a//3600\n",
        "c = b%60\n",
        "d = c%60\n",
        "u = f\"{b}:{c}:{d}\"\n",
        "print(u)"
      ],
      "metadata": {
        "id": "gGf6g2ULOfLg"
      },
      "execution_count": null,
      "outputs": []
    }
  ]
}