{
  "nbformat": 4,
  "nbformat_minor": 0,
  "metadata": {
    "colab": {
      "provenance": [],
      "authorship_tag": "ABX9TyPZBdrIKwOfOd4W4eonqm1i",
      "include_colab_link": true
    },
    "kernelspec": {
      "name": "python3",
      "display_name": "Python 3"
    },
    "language_info": {
      "name": "python"
    }
  },
  "cells": [
    {
      "cell_type": "markdown",
      "metadata": {
        "id": "view-in-github",
        "colab_type": "text"
      },
      "source": [
        "<a href=\"https://colab.research.google.com/github/regza22/nikitakotov/blob/main/%D0%9A%D0%BE%D1%82%D0%BE%D0%B2_%D0%91%D0%98%D0%9A_24_%D0%98%D0%921_25.12_.ipynb\" target=\"_parent\"><img src=\"https://colab.research.google.com/assets/colab-badge.svg\" alt=\"Open In Colab\"/></a>"
      ]
    },
    {
      "cell_type": "code",
      "source": [
        "def sum_numbers():\n",
        "    total_sum = 0\n",
        "    while True:\n",
        "        number = int(input())\n",
        "        if number == 0:\n",
        "          break\n",
        "        total_sum += number\n",
        "    return total_sum\n",
        "\n",
        "print (f\"Сумма введеных чисел: {sum_numbers()}\")\n"
      ],
      "metadata": {
        "colab": {
          "base_uri": "https://localhost:8080/"
        },
        "id": "Mbf6F2_VT6VO",
        "outputId": "74fb4e32-4bf7-40fd-98ff-4b723d6903b2"
      },
      "execution_count": 20,
      "outputs": [
        {
          "output_type": "stream",
          "name": "stdout",
          "text": [
            "53\n",
            "23\n",
            "87\n",
            "2456\n",
            "0\n",
            "Сумма введеных чисел: 2619\n"
          ]
        }
      ]
    },
    {
      "cell_type": "code",
      "source": [
        "names = []\n",
        "phones = []\n",
        "while True:\n",
        "    name = input(\"Имя \")\n",
        "    if name == '0':\n",
        "      break\n",
        "    phone = input(\"Телефон \")\n",
        "    names.append(name)\n",
        "    phones.append(phone)\n",
        "sorted_names = sorted(names)\n",
        "print(\"Отсортированные имена\")\n",
        "for name in sorted_names:\n",
        "    print(name)\n",
        "sorted_phones = sorted(phones)\n",
        "print(\"Отсортированные телефоны\")\n",
        "for phone in sorted_phones:\n",
        "    print(phone)"
      ],
      "metadata": {
        "colab": {
          "base_uri": "https://localhost:8080/"
        },
        "id": "thwVU4j2YIEj",
        "outputId": "2c7b9758-06a8-42ed-dca6-89926b79b6fa"
      },
      "execution_count": 19,
      "outputs": [
        {
          "output_type": "stream",
          "name": "stdout",
          "text": [
            "Имя Антоза\n",
            "Телефон 2352131231\n",
            "Имя Арсений \n",
            "Телефон 764523436\n",
            "Имя Даниил\n",
            "Телефон 64242466\n",
            "Имя Андрей\n",
            "Телефон 854534236\n",
            "Имя Алена\n",
            "Телефон 134631234\n",
            "Имя 0\n",
            "Отсортированные имена\n",
            "Алена\n",
            "Андрей\n",
            "Антоза\n",
            "Арсений \n",
            "Даниил\n",
            "Отсортированные телефоны\n",
            "134631234\n",
            "2352131231\n",
            "64242466\n",
            "764523436\n",
            "854534236\n"
          ]
        }
      ]
    },
    {
      "cell_type": "code",
      "source": [
        "def sum_numbers():\n",
        "    total = 0\n",
        "    while (number := int(input(\"Введите число : \"))) != 0:\n",
        "        total += number\n",
        "    print(f\"Сумма введенных чисел: {total}\")\n",
        "sum_numbers()"
      ],
      "metadata": {
        "colab": {
          "base_uri": "https://localhost:8080/"
        },
        "id": "0YjIXj59acMu",
        "outputId": "f779b419-82c4-4582-cd25-12666a71476f"
      },
      "execution_count": 22,
      "outputs": [
        {
          "output_type": "stream",
          "name": "stdout",
          "text": [
            "Введите число : 23\n",
            "Введите число : 76\n",
            "Введите число : 123\n",
            "Введите число : 9\n",
            "Введите число : 0\n",
            "Сумма введенных чисел: 231\n"
          ]
        }
      ]
    },
    {
      "cell_type": "code",
      "source": [],
      "metadata": {
        "id": "PZqPdlQmdTqj"
      },
      "execution_count": null,
      "outputs": []
    }
  ]
}