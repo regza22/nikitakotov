{
  "nbformat": 4,
  "nbformat_minor": 0,
  "metadata": {
    "colab": {
      "provenance": [],
      "authorship_tag": "ABX9TyMl2hUIJ3tT0GIRNr1tGtwa",
      "include_colab_link": true
    },
    "kernelspec": {
      "name": "python3",
      "display_name": "Python 3"
    },
    "language_info": {
      "name": "python"
    }
  },
  "cells": [
    {
      "cell_type": "markdown",
      "metadata": {
        "id": "view-in-github",
        "colab_type": "text"
      },
      "source": [
        "<a href=\"https://colab.research.google.com/github/regza22/nikitakotov/blob/main/%D0%9A%D0%BE%D1%82%D0%BE%D0%B2_%D0%91%D0%98%D0%9A-24-%D0%98%D0%921_%D0%9F%D1%80%D0%B0%D0%BA%D1%82%D0%B8%D0%BA%D0%B0_4.ipynb\" target=\"_parent\"><img src=\"https://colab.research.google.com/assets/colab-badge.svg\" alt=\"Open In Colab\"/></a>"
      ]
    },
    {
      "cell_type": "markdown",
      "source": [
        "Задание 1"
      ],
      "metadata": {
        "id": "qtoBBo82NX6k"
      }
    },
    {
      "cell_type": "code",
      "execution_count": 13,
      "metadata": {
        "colab": {
          "base_uri": "https://localhost:8080/"
        },
        "id": "3T4gg81iGvHq",
        "outputId": "80aec1b4-f1a6-4b1e-c3d2-e6dbaabbe972"
      },
      "outputs": [
        {
          "output_type": "stream",
          "name": "stdout",
          "text": [
            "Введите номер ошибки405\n",
            "Method Not Allowed\n"
          ]
        }
      ],
      "source": [
        "http_status = (int(input('Введите номер ошибки')))\n",
        "match http_status:\n",
        "    case 400:\n",
        "      print(\"Bad Request\")\n",
        "    case 401:\n",
        "      print(\"Unauthorized\")\n",
        "    case 402:\n",
        "      print(\"Payment Required\")\n",
        "    case 403:\n",
        "      print(\"Forbidden\")\n",
        "    case 404:\n",
        "      print(\"Not Found\")\n",
        "    case 405:\n",
        "      print(\"Method Not Allowed\")\n",
        ""
      ]
    },
    {
      "cell_type": "markdown",
      "source": [
        "Задание 2"
      ],
      "metadata": {
        "id": "ut_ySBp9Nbgm"
      }
    },
    {
      "cell_type": "code",
      "source": [
        "x = int(input('Введите кординату X: '))\n",
        "y = int(input('Введите кординату Y: '))\n",
        "if x<0 and y>0:\n",
        "  print('Вторая четверть')\n",
        "if x>0 and y>0:\n",
        "  print('Первая четверть')\n",
        "if x<0 and y<0:\n",
        "  print('Третья четверть')\n",
        "if x>0 and y<0:\n",
        "  print('Четвертая четверть')"
      ],
      "metadata": {
        "colab": {
          "base_uri": "https://localhost:8080/"
        },
        "id": "xNez9wVvNctl",
        "outputId": "3b98ab22-f727-4e01-b104-c5c9329c470c"
      },
      "execution_count": 17,
      "outputs": [
        {
          "output_type": "stream",
          "name": "stdout",
          "text": [
            "Введите кординату X: 1\n",
            "Введите кординату Y: 1\n",
            "Первая четверть\n"
          ]
        }
      ]
    },
    {
      "cell_type": "markdown",
      "source": [
        "Задание 3"
      ],
      "metadata": {
        "id": "zJ6tS6IcPbrz"
      }
    },
    {
      "cell_type": "code",
      "source": [
        "year = int(input('Введите год: '))\n",
        "if year % 4 == 0 or (year % 100==0 and year % 400==0):\n",
        "  print('Високосный ')\n",
        "else:\n",
        "  print('Не високосный')\n",
        "\n"
      ],
      "metadata": {
        "colab": {
          "base_uri": "https://localhost:8080/"
        },
        "id": "Q62bYI5-Pdo0",
        "outputId": "02bb3ffd-ade5-4ca0-e256-6cfce671d9d8"
      },
      "execution_count": 31,
      "outputs": [
        {
          "output_type": "stream",
          "name": "stdout",
          "text": [
            "Введите год: 1501\n",
            "Не високосный\n"
          ]
        }
      ]
    },
    {
      "cell_type": "markdown",
      "source": [
        "Задание 4"
      ],
      "metadata": {
        "id": "smK8JIVoRkTy"
      }
    },
    {
      "cell_type": "code",
      "source": [
        "a=int(input('Введите число: '))\n",
        "b=int(input('Введите число: '))\n",
        "c = (a/b) or 'Деление невозможно'\n",
        "print(c)"
      ],
      "metadata": {
        "colab": {
          "base_uri": "https://localhost:8080/"
        },
        "id": "MqBqTIs0TnNj",
        "outputId": "f13a6286-b42d-4de1-b11f-01b0119c646e"
      },
      "execution_count": 36,
      "outputs": [
        {
          "output_type": "stream",
          "name": "stdout",
          "text": [
            "Введите число: 1\n",
            "Введите число: 1\n",
            "1.0\n"
          ]
        }
      ]
    },
    {
      "cell_type": "code",
      "source": [],
      "metadata": {
        "id": "ZmsM8OP0U807"
      },
      "execution_count": null,
      "outputs": []
    }
  ]
}