{
  "nbformat": 4,
  "nbformat_minor": 0,
  "metadata": {
    "colab": {
      "provenance": [],
      "authorship_tag": "ABX9TyNbLkqxwDvuejy7VwElkEf5",
      "include_colab_link": true
    },
    "kernelspec": {
      "name": "python3",
      "display_name": "Python 3"
    },
    "language_info": {
      "name": "python"
    }
  },
  "cells": [
    {
      "cell_type": "markdown",
      "metadata": {
        "id": "view-in-github",
        "colab_type": "text"
      },
      "source": [
        "<a href=\"https://colab.research.google.com/github/regza22/nikitakotov/blob/main/14_10_2024_%D0%9A%D0%BE%D1%82%D0%BE%D0%B2_%D0%91%D0%98%D0%9A_24_%D0%98%D0%921_%D0%9F%D1%80%D0%B0%D0%BA%D1%82%D0%B8%D0%BA%D0%B0_4.ipynb\" target=\"_parent\"><img src=\"https://colab.research.google.com/assets/colab-badge.svg\" alt=\"Open In Colab\"/></a>"
      ]
    },
    {
      "cell_type": "markdown",
      "source": [
        "Задание 1"
      ],
      "metadata": {
        "id": "Gipw7QFtP4ek"
      }
    },
    {
      "cell_type": "code",
      "source": [
        "error = str(input(\"Введите код ошибки: \\n\"))\n",
        "\n",
        "match error:\n",
        "  case \"400\":\n",
        "    print(\"Bad Request\")\n",
        "  case \"401\":\n",
        "    print(\"Unauthorized\")\n",
        "  case \"402\":\n",
        "    print(\"Payment Required\")\n",
        "  case \"403\":\n",
        "    print(\"Forbidden\")\n",
        "  case \"404\":\n",
        "    print(\"Not Found\")\n",
        "  case \"405\":\n",
        "    print(\"Method Not Allowed\")\n",
        "  case \"406\":\n",
        "    print(\"Not Acceptable\")\n",
        "  case \"407\":\n",
        "    print(\"Proxy Auth Required\")\n",
        "  case \"408\":\n",
        "    print(\"Requested Timeout\")\n",
        "  case \"409\":\n",
        "    print(\"Conflict\")\n",
        "  case \"410\":\n",
        "    print(\"Gone\")"
      ],
      "metadata": {
        "id": "C4UhDa5bP5ot"
      },
      "execution_count": null,
      "outputs": []
    },
    {
      "cell_type": "markdown",
      "source": [
        "Задание №2"
      ],
      "metadata": {
        "id": "vWSD1NAeP-Bt"
      }
    },
    {
      "cell_type": "code",
      "source": [
        "surface = int(input(\"Введите размеры плоскости: \\n\"))\n",
        "x = int(input(\"Введите значение X: \\n\"))\n",
        "y = int(input(\"Введите значение y: \\n\"))\n",
        "\n",
        "if (x and y) < surface / 2:\n",
        "  print(\"Точка находится в 3 четверти\")\n",
        "if (x and y) > surface / 2:\n",
        "  print(\"Точка находится в 1 четверти\")\n",
        "if x > 50 and y < surface / 2:\n",
        "  print(\"Точка находится в 4 четверти\")\n",
        "if x < 50 and y > surface / 2:\n",
        "  print(\"Точка находится в 2 четверти\")\n",
        "elif x > surface or y > surface:\n",
        "  print(\"Точка находится за пределами допустимых значений\")"
      ],
      "metadata": {
        "id": "LhChuIfSP_XF"
      },
      "execution_count": null,
      "outputs": []
    },
    {
      "cell_type": "markdown",
      "source": [
        "Задание №3"
      ],
      "metadata": {
        "id": "zkOLTpIUQDYs"
      }
    },
    {
      "cell_type": "code",
      "source": [
        "year = int(input(\"Введите год: \\n\"))\n",
        "\n",
        "def leap_year(year):\n",
        "  print(str(year)[-2:])\n",
        "  if year % 4 == 0 and str(year)[-2:] != '00':\n",
        "    return True\n",
        "  else:\n",
        "    return False\n",
        "\n",
        "print(leap_year(year))"
      ],
      "metadata": {
        "id": "mG6GEy3DQEyJ"
      },
      "execution_count": null,
      "outputs": []
    },
    {
      "cell_type": "markdown",
      "source": [
        "Задание №4"
      ],
      "metadata": {
        "id": "LF9tlYupQHy8"
      }
    },
    {
      "cell_type": "code",
      "source": [
        "a = int(input(\"Введите значение a: \\n\"))\n",
        "b = int(input(\"Введите значение b: \\n\"))\n",
        "\n",
        "result = (b != 0 ) or (a / b) or \"Деление невозможно\"\n",
        "\n",
        "print(result)"
      ],
      "metadata": {
        "id": "CJBb4bYFQI1S"
      },
      "execution_count": null,
      "outputs": []
    }
  ]
}