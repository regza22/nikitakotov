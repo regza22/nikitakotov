{
  "nbformat": 4,
  "nbformat_minor": 0,
  "metadata": {
    "colab": {
      "provenance": [],
      "authorship_tag": "ABX9TyOYe+MGAv1ha1aHOXOAKVHA",
      "include_colab_link": true
    },
    "kernelspec": {
      "name": "python3",
      "display_name": "Python 3"
    },
    "language_info": {
      "name": "python"
    }
  },
  "cells": [
    {
      "cell_type": "markdown",
      "metadata": {
        "id": "view-in-github",
        "colab_type": "text"
      },
      "source": [
        "<a href=\"https://colab.research.google.com/github/regza22/nikitakotov/blob/main/04_12_2024_%D0%9A%D0%BE%D1%82%D0%BE%D0%B2%D0%9D%D0%90_%D0%91%D0%98%D0%9A_24_%D0%98%D0%921.ipynb\" target=\"_parent\"><img src=\"https://colab.research.google.com/assets/colab-badge.svg\" alt=\"Open In Colab\"/></a>"
      ]
    },
    {
      "cell_type": "markdown",
      "source": [
        "Задание №1"
      ],
      "metadata": {
        "id": "JQ1pNy5fLrA-"
      }
    },
    {
      "cell_type": "code",
      "source": [
        "num = int(input(\"Введите количество строк и столбцов: \"))\n",
        "mat1 = []\n",
        "mat2 = []\n",
        "a = 0\n",
        "for i in range(num):\n",
        "  for f in range(num):\n",
        "    a += 1\n",
        "    mat2.append(a)\n",
        "  mat1.append(mat2)\n",
        "  mat2 = []\n",
        "print(mat1)\n",
        "\n",
        "if len(mat1) == 1:\n",
        "  print(\"Определитель матрицы равен\", mat1[0][0])\n",
        "if len(mat1) == 2:\n",
        "  print(\"Определитель матрицы равен\", mat1[0][0] * mat1[1][1] - mat1[0][1] * mat1[1][0])\n",
        "if len(mat1) >= 3:\n",
        "  n_array = np.array(mat1)\n",
        "  print(\"Определитель матрицы равен\", np.linalg.det(n_array))\n"
      ],
      "metadata": {
        "colab": {
          "base_uri": "https://localhost:8080/"
        },
        "id": "KbGUjN6mLtKB",
        "outputId": "ad8e7e24-82f8-4f03-ebbe-2e982cb0183c"
      },
      "execution_count": 3,
      "outputs": [
        {
          "output_type": "stream",
          "name": "stdout",
          "text": [
            "Введите количество строк и столбцов: 1\n",
            "[[1]]\n",
            "Определитель матрицы равен 1\n"
          ]
        }
      ]
    },
    {
      "cell_type": "markdown",
      "source": [
        "Задание №2"
      ],
      "metadata": {
        "id": "UXke9XzZL9TP"
      }
    },
    {
      "cell_type": "code",
      "source": [
        "import numpy as np\n",
        "\n",
        "num = int(input(\"Введите количество строк и столбцов: \"))\n",
        "mat1 = []\n",
        "mat2 = []\n",
        "a = num**2\n",
        "for i in range(num):\n",
        "  for f in range(num):\n",
        "    mat2.append(a)\n",
        "    a -= 1\n",
        "  mat1.append(mat2)\n",
        "  mat2 = []\n",
        "print(mat1)\n",
        "\n",
        "if len(mat1) == 1:\n",
        "  print(\"Определитель матрицы равен\", mat1[0][0])\n",
        "if len(mat1) == 2:\n",
        "  print(\"Определитель матрицы равен\", mat1[0][0] * mat1[1][1] - mat1[0][1] * mat1[1][0])\n",
        "if len(mat1) >= 3:\n",
        "  n_array = np.array(mat1)\n",
        "  print(\"Определитель матрицы равен\", np.linalg.det(n_array))"
      ],
      "metadata": {
        "colab": {
          "base_uri": "https://localhost:8080/"
        },
        "id": "6jZyUMf-L_sy",
        "outputId": "83e0d615-b69e-4986-fe4d-828f22bc6d36"
      },
      "execution_count": 4,
      "outputs": [
        {
          "output_type": "stream",
          "name": "stdout",
          "text": [
            "Введите количество строк и столбцов: 4\n",
            "[[16, 15, 14, 13], [12, 11, 10, 9], [8, 7, 6, 5], [4, 3, 2, 1]]\n",
            "Определитель матрицы равен 0.0\n"
          ]
        }
      ]
    },
    {
      "cell_type": "markdown",
      "source": [
        "Задание №3"
      ],
      "metadata": {
        "id": "hECnUNnbMGpZ"
      }
    },
    {
      "cell_type": "code",
      "source": [
        "table = [['ФИО','Балл по программированию','Балл по ОБЖ','Балл по алгебре'],['Петров', '78', '93', '61'],['Иванов', '56', '67', '73'],['Сидоров', '81', '75', '70']]\n",
        "\n",
        "subjects = table[0][1:]\n",
        "scores = table[0:][1:]\n",
        "sub_1_scores = table[0:][1]\n",
        "sub_2_scores = table[0:][2]\n",
        "sub_3_scores = table[0:][3]\n",
        "print(sub_1_scores)"
      ],
      "metadata": {
        "colab": {
          "base_uri": "https://localhost:8080/"
        },
        "id": "dXGhM58uMILz",
        "outputId": "f811a7a8-63e1-40e8-b73e-d99ec19ce2f6"
      },
      "execution_count": 6,
      "outputs": [
        {
          "output_type": "stream",
          "name": "stdout",
          "text": [
            "['Петров', '78', '93', '61']\n"
          ]
        }
      ]
    }
  ]
}