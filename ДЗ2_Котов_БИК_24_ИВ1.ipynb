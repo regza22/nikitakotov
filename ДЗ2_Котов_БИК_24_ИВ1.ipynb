{
  "nbformat": 4,
  "nbformat_minor": 0,
  "metadata": {
    "colab": {
      "provenance": [],
      "authorship_tag": "ABX9TyN9rRty7Cb4I/1o2cJYDJgb",
      "include_colab_link": true
    },
    "kernelspec": {
      "name": "python3",
      "display_name": "Python 3"
    },
    "language_info": {
      "name": "python"
    }
  },
  "cells": [
    {
      "cell_type": "markdown",
      "metadata": {
        "id": "view-in-github",
        "colab_type": "text"
      },
      "source": [
        "<a href=\"https://colab.research.google.com/github/regza22/nikitakotov/blob/main/%D0%94%D0%972_%D0%9A%D0%BE%D1%82%D0%BE%D0%B2_%D0%91%D0%98%D0%9A_24_%D0%98%D0%921.ipynb\" target=\"_parent\"><img src=\"https://colab.research.google.com/assets/colab-badge.svg\" alt=\"Open In Colab\"/></a>"
      ]
    },
    {
      "cell_type": "markdown",
      "source": [
        "Задание 1"
      ],
      "metadata": {
        "id": "1MnQsAEh7tK_"
      }
    },
    {
      "cell_type": "code",
      "source": [
        "a = int(input(\"Введите первый катет: \"))\n",
        "b = int(input(\"Введите второй катет: \"))\n",
        "\n",
        "c = (a**2 + b**2)\n",
        "\n",
        "print(f\"Гипотенуза треугольника: {c }\")"
      ],
      "metadata": {
        "colab": {
          "base_uri": "https://localhost:8080/"
        },
        "id": "CT0y1mo57uMy",
        "outputId": "5c613645-2b75-4215-a969-29cf7361bae2"
      },
      "execution_count": 17,
      "outputs": [
        {
          "output_type": "stream",
          "name": "stdout",
          "text": [
            "Введите первый катет: 5\n",
            "Введите второй катет: 3\n",
            "Гипотенуза треугольника: 34\n"
          ]
        }
      ]
    },
    {
      "cell_type": "markdown",
      "source": [
        "Задание 2"
      ],
      "metadata": {
        "id": "tTJzNi1C7w0g"
      }
    },
    {
      "cell_type": "code",
      "source": [
        "number = int(input(\"Введите целое число: \"))\n",
        "\n",
        "print(\"Следующее число после\", number, \"это\", str(number + 1) + \".\")\n",
        "\n",
        "print(\"Предыдущее число перед\", number, \"это\", str(number - 1) + \".\")"
      ],
      "metadata": {
        "colab": {
          "base_uri": "https://localhost:8080/"
        },
        "id": "un_Q18XV7x0-",
        "outputId": "4046aad7-2b52-412a-ebc7-5ad7a9389bf3"
      },
      "execution_count": 18,
      "outputs": [
        {
          "output_type": "stream",
          "name": "stdout",
          "text": [
            "Введите целое число: 33\n",
            "Следующее число после 33 это 34.\n",
            "Предыдущее число перед 33 это 32.\n"
          ]
        }
      ]
    },
    {
      "cell_type": "markdown",
      "source": [
        "Задание 3"
      ],
      "metadata": {
        "id": "VHsH30Yl71nq"
      }
    },
    {
      "cell_type": "code",
      "source": [
        "number = input(\"Введите четырехзначное число: \")\n",
        "\n",
        "if len(number) == 4 and number[0] == number[3] and number[1] == number[2]:\n",
        "    print(1)\n",
        "else:\n",
        "    print(0)"
      ],
      "metadata": {
        "colab": {
          "base_uri": "https://localhost:8080/"
        },
        "id": "MS0eMZCh72lA",
        "outputId": "1f04416b-cc43-4245-dd69-a648e1973d43"
      },
      "execution_count": 13,
      "outputs": [
        {
          "output_type": "stream",
          "name": "stdout",
          "text": [
            "Введите четырехзначное число: 4321\n",
            "0\n"
          ]
        }
      ]
    },
    {
      "cell_type": "markdown",
      "source": [
        "Задание 4"
      ],
      "metadata": {
        "id": "1xUEdAmL8C8V"
      }
    },
    {
      "cell_type": "code",
      "source": [
        "h = int(input(\"Введите высоту шеста (h): \"))\n",
        "a = int(input(\"Введите сколько улитка поднимается за день (a): \"))\n",
        "b = int(input(\"Введите сколько улитка спускается за ночь (b): \"))\n",
        "days =((h - b) / (a - b))\n",
        "print(f\"Улитка доползёт до вершины шеста на {days} день\")"
      ],
      "metadata": {
        "colab": {
          "base_uri": "https://localhost:8080/"
        },
        "id": "xQFe4ZDu8D_V",
        "outputId": "1587a0af-a526-4b56-f3fc-07c4326a897f"
      },
      "execution_count": 12,
      "outputs": [
        {
          "output_type": "stream",
          "name": "stdout",
          "text": [
            "Введите высоту шеста (h): 10\n",
            "Введите сколько улитка поднимается за день (a): 2\n",
            "Введите сколько улитка спускается за ночь (b): 1\n",
            "Улитка доползёт до вершины шеста на 9.0 день\n"
          ]
        }
      ]
    },
    {
      "cell_type": "markdown",
      "source": [
        "Задание 5"
      ],
      "metadata": {
        "id": "eX8mQ9vS8HEm"
      }
    },
    {
      "cell_type": "code",
      "source": [
        "n = int(input())\n",
        "\n",
        "hours = (n // 3600) % 24\n",
        "minutes = (n % 3600) // 60\n",
        "seconds = n % 60\n",
        "\n",
        "print(f\"{hours}:{minutes:02}:{seconds:02}\")"
      ],
      "metadata": {
        "colab": {
          "base_uri": "https://localhost:8080/"
        },
        "id": "YWXQS_nQ8H-C",
        "outputId": "90d9715e-cb38-4dab-c316-79122bc3814e"
      },
      "execution_count": 5,
      "outputs": [
        {
          "output_type": "stream",
          "name": "stdout",
          "text": [
            "32\n",
            "0:00:32\n"
          ]
        }
      ]
    },
    {
      "cell_type": "markdown",
      "source": [
        "Задание 6"
      ],
      "metadata": {
        "id": "HYYS8t4-8KLW"
      }
    },
    {
      "cell_type": "code",
      "source": [
        "h1 = int(input())\n",
        "m1 = int(input())\n",
        "s1 = int(input())\n",
        "\n",
        "h2 = int(input())\n",
        "m2 = int(input())\n",
        "s2 = int(input())\n",
        "\n",
        "time1 = h1 * 3600 + m1 * 60 + s1\n",
        "time2 = h2 * 3600 + m2 * 60 + s2\n",
        "\n",
        "diff = time2 - time1\n",
        "\n",
        "print(f\"Разница в секундах: \\n{diff}\")"
      ],
      "metadata": {
        "colab": {
          "base_uri": "https://localhost:8080/"
        },
        "id": "GPNrW3BZ8K5v",
        "outputId": "9c9f6595-5416-4c60-c2e7-93ec954d86b7"
      },
      "execution_count": 4,
      "outputs": [
        {
          "output_type": "stream",
          "name": "stdout",
          "text": [
            "3\n",
            "2\n",
            "53\n",
            "23\n",
            "444\n",
            "2321\n",
            "Разница в секундах: \n",
            "100788\n"
          ]
        }
      ]
    },
    {
      "cell_type": "markdown",
      "source": [
        "Задание 7"
      ],
      "metadata": {
        "id": "2raT-uqa8NhP"
      }
    },
    {
      "cell_type": "code",
      "source": [
        "a = int(input())\n",
        "b = int(input())\n",
        "\n",
        "a, b = b, a\n",
        "\n",
        "print(a, b)"
      ],
      "metadata": {
        "colab": {
          "base_uri": "https://localhost:8080/"
        },
        "id": "VssjdA888OQx",
        "outputId": "66a94d42-f84b-49fb-a19d-ff49ebca6ebd"
      },
      "execution_count": 3,
      "outputs": [
        {
          "output_type": "stream",
          "name": "stdout",
          "text": [
            "1\n",
            "3\n",
            "3 1\n"
          ]
        }
      ]
    },
    {
      "cell_type": "markdown",
      "source": [
        "Задание 8"
      ],
      "metadata": {
        "id": "zXpL8U5R8QXo"
      }
    },
    {
      "cell_type": "code",
      "source": [
        "n, k = map(int, input().split()) #Пример ввода: \"5 8\"\n",
        "\n",
        "result = n * (k % n) // n\n",
        "\n",
        "print(result)"
      ],
      "metadata": {
        "colab": {
          "base_uri": "https://localhost:8080/"
        },
        "id": "rTy_rZEk8RL_",
        "outputId": "286036d5-3737-406d-c47f-ff31e9cea9eb"
      },
      "execution_count": 2,
      "outputs": [
        {
          "output_type": "stream",
          "name": "stdout",
          "text": [
            "3 8\n",
            "2\n"
          ]
        }
      ]
    },
    {
      "cell_type": "markdown",
      "source": [
        "Задание 9"
      ],
      "metadata": {
        "id": "zf3e5dBp8TUG"
      }
    },
    {
      "cell_type": "code",
      "source": [
        "number = int(input(\"Введите трехзначное число: \"))\n",
        "\n",
        "sum = sum(int(digit) for digit in str(number))\n",
        "\n",
        "print(sum)"
      ],
      "metadata": {
        "colab": {
          "base_uri": "https://localhost:8080/"
        },
        "id": "xYtE0uO08UN8",
        "outputId": "2765f52f-255d-43b7-bf9a-ab5846ad7c0a"
      },
      "execution_count": 1,
      "outputs": [
        {
          "output_type": "stream",
          "name": "stdout",
          "text": [
            "Введите трехзначное число: 111\n",
            "3\n"
          ]
        }
      ]
    }
  ]
}