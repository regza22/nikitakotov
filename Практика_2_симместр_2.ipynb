{
  "nbformat": 4,
  "nbformat_minor": 0,
  "metadata": {
    "colab": {
      "provenance": [],
      "authorship_tag": "ABX9TyOmcNxs2kK471l7+Q89FKxi",
      "include_colab_link": true
    },
    "kernelspec": {
      "name": "python3",
      "display_name": "Python 3"
    },
    "language_info": {
      "name": "python"
    }
  },
  "cells": [
    {
      "cell_type": "markdown",
      "metadata": {
        "id": "view-in-github",
        "colab_type": "text"
      },
      "source": [
        "<a href=\"https://colab.research.google.com/github/regza22/nikitakotov/blob/main/%D0%9F%D1%80%D0%B0%D0%BA%D1%82%D0%B8%D0%BA%D0%B0_2_%D1%81%D0%B8%D0%BC%D0%BC%D0%B5%D1%81%D1%82%D1%80_2.ipynb\" target=\"_parent\"><img src=\"https://colab.research.google.com/assets/colab-badge.svg\" alt=\"Open In Colab\"/></a>"
      ]
    },
    {
      "cell_type": "markdown",
      "source": [
        "Задание 1"
      ],
      "metadata": {
        "id": "ghiMQ4H-kNjM"
      }
    },
    {
      "cell_type": "code",
      "execution_count": 2,
      "metadata": {
        "colab": {
          "base_uri": "https://localhost:8080/"
        },
        "id": "5WNtFSoxkF1y",
        "outputId": "6ee2ea9a-cfcb-4fbb-a25f-be1b2147ab09"
      },
      "outputs": [
        {
          "output_type": "stream",
          "name": "stdout",
          "text": [
            "Введие имяНикита\n",
            "Введите свой возраст20\n",
            "Введите свой рост179\n",
            "Привет, Никита! Тебе 20 лет и твой рост 179 см\n"
          ]
        }
      ],
      "source": [
        "name = input('Введие имя')\n",
        "age = input('Введите свой возраст')\n",
        "height = input('Введите свой рост')\n",
        "\n",
        "print(f'Привет, {name}! Тебе {age} лет и твой рост {height} см')"
      ]
    },
    {
      "cell_type": "markdown",
      "source": [
        "Задание 2"
      ],
      "metadata": {
        "id": "5U9dCI_6kQdX"
      }
    },
    {
      "cell_type": "code",
      "source": [
        "num = int(input('Введите целое число '))\n",
        "print('четное' if num % 2 == 0 else 'нечетное')\n",
        "print('положительное' if num > 0 else 'отрицательное')\n",
        "print('число равно нулю' if num == 0 else 'не равно нулю')"
      ],
      "metadata": {
        "colab": {
          "base_uri": "https://localhost:8080/"
        },
        "id": "jSW1k368kRYh",
        "outputId": "e403a8cd-3b05-48c9-f1b9-ab91356d667e"
      },
      "execution_count": 4,
      "outputs": [
        {
          "output_type": "stream",
          "name": "stdout",
          "text": [
            "Введите целое число 30\n",
            "четное\n",
            "положительное\n",
            "не равно нулю\n"
          ]
        }
      ]
    },
    {
      "cell_type": "markdown",
      "source": [
        "Задание 3"
      ],
      "metadata": {
        "id": "rwdxHiZZkRnN"
      }
    },
    {
      "cell_type": "code",
      "source": [
        "n = []\n",
        "for i in range(5):\n",
        "  a = int(input('Введите число: '))\n",
        "  n.append(a)\n",
        "\n",
        "print(sum(n), max(n), min(n))"
      ],
      "metadata": {
        "colab": {
          "base_uri": "https://localhost:8080/"
        },
        "id": "eZ_vL_lGkSed",
        "outputId": "6507f944-571d-4f6d-94d7-f560fa81b090"
      },
      "execution_count": 5,
      "outputs": [
        {
          "output_type": "stream",
          "name": "stdout",
          "text": [
            "Введите число: 5\n",
            "Введите число: 3\n",
            "Введите число: 1\n",
            "Введите число: 7\n",
            "Введите число: 6\n",
            "22 7 1\n"
          ]
        }
      ]
    },
    {
      "cell_type": "markdown",
      "source": [
        "Задание 4"
      ],
      "metadata": {
        "id": "evG4k1PFkSpC"
      }
    },
    {
      "cell_type": "code",
      "source": [
        "def sum_of_evens(numbers):\n",
        "    return sum(num for num in numbers if num % 2 == 0)\n",
        "user_input = input(\"Введите числа через пробел: \")\n",
        "numbers = list(map(int, user_input.split()))\n",
        "total_sum = sum_of_evens(numbers)\n",
        "print(total_sum)"
      ],
      "metadata": {
        "colab": {
          "base_uri": "https://localhost:8080/"
        },
        "id": "2meMzQrEkTpW",
        "outputId": "c4650fd8-c484-47ac-eaaa-3a3c9e7982ea"
      },
      "execution_count": 6,
      "outputs": [
        {
          "output_type": "stream",
          "name": "stdout",
          "text": [
            "Введите числа через пробел: 15 20 25\n",
            "20\n"
          ]
        }
      ]
    },
    {
      "cell_type": "markdown",
      "source": [
        "Задание 5"
      ],
      "metadata": {
        "id": "Ldc3ze_4kT59"
      }
    },
    {
      "cell_type": "code",
      "source": [
        "def generate_squares():\n",
        "    n = int(input(\"Введите положительное целое число: \"))\n",
        "    squares = [i ** 2 for i in range(1, n + 1)]\n",
        "    print(squares)\n",
        "\n",
        "generate_squares()\n",
        ""
      ],
      "metadata": {
        "colab": {
          "base_uri": "https://localhost:8080/"
        },
        "id": "nyTO1xaTkVkW",
        "outputId": "333b96d9-f301-48f8-c860-a603fea3f9e7"
      },
      "execution_count": 8,
      "outputs": [
        {
          "output_type": "stream",
          "name": "stdout",
          "text": [
            "Введите положительное целое число: 80\n",
            "[1, 4, 9, 16, 25, 36, 49, 64, 81, 100, 121, 144, 169, 196, 225, 256, 289, 324, 361, 400, 441, 484, 529, 576, 625, 676, 729, 784, 841, 900, 961, 1024, 1089, 1156, 1225, 1296, 1369, 1444, 1521, 1600, 1681, 1764, 1849, 1936, 2025, 2116, 2209, 2304, 2401, 2500, 2601, 2704, 2809, 2916, 3025, 3136, 3249, 3364, 3481, 3600, 3721, 3844, 3969, 4096, 4225, 4356, 4489, 4624, 4761, 4900, 5041, 5184, 5329, 5476, 5625, 5776, 5929, 6084, 6241, 6400]\n"
          ]
        }
      ]
    },
    {
      "cell_type": "markdown",
      "source": [
        "Задание 6"
      ],
      "metadata": {
        "id": "Dt3arEF6kV89"
      }
    },
    {
      "cell_type": "code",
      "source": [
        "def filter_noise():\n",
        "    signal_str = input(\"Введите сигнал через пробел: \")\n",
        "    signal = list(map(int, signal_str.split()))\n",
        "    threshold = float(input(\"Введите порог: \"))\n",
        "    filtered_signal = [x for x in signal if abs(x) >= threshold]\n",
        "    print(\"Отфильтрованный сигнал:\", filtered_signal)\n",
        "filter_noise()\n",
        ""
      ],
      "metadata": {
        "colab": {
          "base_uri": "https://localhost:8080/"
        },
        "id": "9_BlL4S3kXgo",
        "outputId": "0ee7feb1-e05e-4051-e725-3fa013bb5de6"
      },
      "execution_count": 9,
      "outputs": [
        {
          "output_type": "stream",
          "name": "stdout",
          "text": [
            "Введите сигнал через пробел: 2\n",
            "Введите порог: 5\n",
            "Отфильтрованный сигнал: []\n"
          ]
        }
      ]
    }
  ]
}