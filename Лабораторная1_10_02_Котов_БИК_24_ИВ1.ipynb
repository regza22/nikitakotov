{
  "nbformat": 4,
  "nbformat_minor": 0,
  "metadata": {
    "colab": {
      "provenance": [],
      "authorship_tag": "ABX9TyPkPtaOzmFkHGVWz1kUKJos",
      "include_colab_link": true
    },
    "kernelspec": {
      "name": "python3",
      "display_name": "Python 3"
    },
    "language_info": {
      "name": "python"
    }
  },
  "cells": [
    {
      "cell_type": "markdown",
      "metadata": {
        "id": "view-in-github",
        "colab_type": "text"
      },
      "source": [
        "<a href=\"https://colab.research.google.com/github/regza22/nikitakotov/blob/main/%D0%9B%D0%B0%D0%B1%D0%BE%D1%80%D0%B0%D1%82%D0%BE%D1%80%D0%BD%D0%B0%D1%8F1_10_02_%D0%9A%D0%BE%D1%82%D0%BE%D0%B2_%D0%91%D0%98%D0%9A_24_%D0%98%D0%921.ipynb\" target=\"_parent\"><img src=\"https://colab.research.google.com/assets/colab-badge.svg\" alt=\"Open In Colab\"/></a>"
      ]
    },
    {
      "cell_type": "markdown",
      "source": [
        "Задание 1"
      ],
      "metadata": {
        "id": "19cDqWQw-NhW"
      }
    },
    {
      "cell_type": "code",
      "execution_count": 2,
      "metadata": {
        "colab": {
          "base_uri": "https://localhost:8080/"
        },
        "id": "HI1qRtMB8Mxn",
        "outputId": "a458677a-47f6-4b63-db1e-73aee5042d49"
      },
      "outputs": [
        {
          "output_type": "stream",
          "name": "stdout",
          "text": [
            "Тестовая строка\n"
          ]
        }
      ],
      "source": [
        "number = 23\n",
        "point_number = 43.534\n",
        "string = \"Тестовая строка\"\n",
        "switch = True\n",
        "print(string)"
      ]
    },
    {
      "cell_type": "markdown",
      "source": [
        "Задание 2"
      ],
      "metadata": {
        "id": "p-vRcp6w-R32"
      }
    },
    {
      "cell_type": "code",
      "source": [
        "age =int(input(\"Введите возраст \"))\n",
        "name =str( input(\"Введите имя \"))\n",
        "print(age, name)"
      ],
      "metadata": {
        "colab": {
          "base_uri": "https://localhost:8080/"
        },
        "id": "v0O5-MP4-S0G",
        "outputId": "e6bc0cab-f191-4dc0-aa45-72f5f29540b5"
      },
      "execution_count": 10,
      "outputs": [
        {
          "output_type": "stream",
          "name": "stdout",
          "text": [
            "Введите возраст 23\n",
            "Введите имя f\n",
            "23 f\n"
          ]
        }
      ]
    },
    {
      "cell_type": "markdown",
      "source": [
        "Задание 3"
      ],
      "metadata": {
        "id": "gAY8JUBw_WVH"
      }
    },
    {
      "cell_type": "code",
      "source": [
        "a = int(342)\n",
        "b = float(56.2)\n",
        "c = '43'\n",
        "number = (a + b + int(c))\n",
        "print(number)"
      ],
      "metadata": {
        "colab": {
          "base_uri": "https://localhost:8080/"
        },
        "id": "mICv-wlR_XsY",
        "outputId": "6b342f2a-4dc5-407a-bd27-35bbca5fb48e"
      },
      "execution_count": 34,
      "outputs": [
        {
          "output_type": "stream",
          "name": "stdout",
          "text": [
            "441.2\n"
          ]
        }
      ]
    },
    {
      "cell_type": "markdown",
      "source": [
        "Задание 4"
      ],
      "metadata": {
        "id": "ZicntDAtC2n7"
      }
    },
    {
      "cell_type": "code",
      "source": [
        "a = 3\n",
        "b = 8\n",
        "c = (a + 4*b)*(a - 3*b) + a * a\n",
        "print(c)"
      ],
      "metadata": {
        "colab": {
          "base_uri": "https://localhost:8080/"
        },
        "id": "ryWDQQsSC31q",
        "outputId": "934717a5-69a6-4b79-9265-5f75a968d7e9"
      },
      "execution_count": 38,
      "outputs": [
        {
          "output_type": "stream",
          "name": "stdout",
          "text": [
            "-726\n"
          ]
        }
      ]
    },
    {
      "cell_type": "markdown",
      "source": [
        "Задание 5"
      ],
      "metadata": {
        "id": "CLb7ZkfTDcT1"
      }
    },
    {
      "cell_type": "code",
      "source": [
        "a = int(input('Введите длинну прямоугольника '))\n",
        "b = int(input('Введите ширину прямоугольника '))\n",
        "S = (a*b)\n",
        "P = (a*2+b*2)\n",
        "print(\"Площадь равна:\",S,\"Периметр равен:\",P)"
      ],
      "metadata": {
        "colab": {
          "base_uri": "https://localhost:8080/"
        },
        "id": "03Dj292jDdQ1",
        "outputId": "88bf3f33-cea6-4011-c66d-337da2ecd10f"
      },
      "execution_count": 44,
      "outputs": [
        {
          "output_type": "stream",
          "name": "stdout",
          "text": [
            "Введите длинну прямоугольника 6\n",
            "Введите ширину прямоугольника 3\n",
            "Площадь равна: 18 Периметр равен: 18\n"
          ]
        }
      ]
    },
    {
      "cell_type": "markdown",
      "source": [
        "Задание 6"
      ],
      "metadata": {
        "id": "O1_uF6Z8FOmM"
      }
    },
    {
      "cell_type": "code",
      "source": [
        "w = [\"*     *     *\",\n",
        "     \" *   * *   * \",\n",
        "     \"  * *   * *  \",]\n",
        "for line in w:\n",
        "    print(line)"
      ],
      "metadata": {
        "colab": {
          "base_uri": "https://localhost:8080/"
        },
        "id": "K_QRDlnYFQU8",
        "outputId": "43faae40-016d-4375-b82a-32b8eb9ee8c1"
      },
      "execution_count": 50,
      "outputs": [
        {
          "output_type": "stream",
          "name": "stdout",
          "text": [
            "*     *     *\n",
            " *   * *   * \n",
            "  * *   * *  \n"
          ]
        }
      ]
    },
    {
      "cell_type": "markdown",
      "source": [
        "Задание 7"
      ],
      "metadata": {
        "id": "ssSGOYjfF7N7"
      }
    },
    {
      "cell_type": "code",
      "source": [
        "a = 3\n",
        "b = 75\n",
        "print(\"Арифметические операторы:\",a+b, a*b, a-b, a/b, a//b, a%b, a**b)\n",
        "print(\"Операторты сравнения:\", a==b, a!=b, a>b, a<b, a>=b, a<=b )"
      ],
      "metadata": {
        "colab": {
          "base_uri": "https://localhost:8080/"
        },
        "id": "L1_Vbh4nF85k",
        "outputId": "a25c5651-8ee1-42b6-a1fe-9c79d3a6bf67"
      },
      "execution_count": 60,
      "outputs": [
        {
          "output_type": "stream",
          "name": "stdout",
          "text": [
            "Арифметические операторы: 78 225 -72 0.04 0 3 608266787713357709119683992618861307\n",
            "Операторты сравнения: False True False True False True\n"
          ]
        }
      ]
    },
    {
      "cell_type": "markdown",
      "source": [
        "Задание 8"
      ],
      "metadata": {
        "id": "lJPhhZnJHqfX"
      }
    },
    {
      "cell_type": "code",
      "source": [
        "age = 21\n",
        "name = Никита\n",
        "print(f'Привет! Меня зовут {name}, мне {age}, лет')"
      ],
      "metadata": {
        "colab": {
          "base_uri": "https://localhost:8080/",
          "height": 176
        },
        "id": "0qOZeVaoHxAP",
        "outputId": "53816d6c-6a6f-49ab-f191-89f8254993ef"
      },
      "execution_count": 64,
      "outputs": [
        {
          "output_type": "error",
          "ename": "NameError",
          "evalue": "name 'Никита' is not defined",
          "traceback": [
            "\u001b[0;31m---------------------------------------------------------------------------\u001b[0m",
            "\u001b[0;31mNameError\u001b[0m                                 Traceback (most recent call last)",
            "\u001b[0;32m<ipython-input-64-837ee71fac6f>\u001b[0m in \u001b[0;36m<cell line: 0>\u001b[0;34m()\u001b[0m\n\u001b[1;32m      1\u001b[0m \u001b[0mage\u001b[0m \u001b[0;34m=\u001b[0m \u001b[0;36m21\u001b[0m\u001b[0;34m\u001b[0m\u001b[0;34m\u001b[0m\u001b[0m\n\u001b[0;32m----> 2\u001b[0;31m \u001b[0mname\u001b[0m \u001b[0;34m=\u001b[0m \u001b[0mНикита\u001b[0m\u001b[0;34m\u001b[0m\u001b[0;34m\u001b[0m\u001b[0m\n\u001b[0m\u001b[1;32m      3\u001b[0m \u001b[0mprint\u001b[0m\u001b[0;34m(\u001b[0m\u001b[0;34mf'Привет! Меня зовут {name}, мне {age}, лет'\u001b[0m\u001b[0;34m)\u001b[0m\u001b[0;34m\u001b[0m\u001b[0;34m\u001b[0m\u001b[0m\n",
            "\u001b[0;31mNameError\u001b[0m: name 'Никита' is not defined"
          ]
        }
      ]
    },
    {
      "cell_type": "code",
      "source": [],
      "metadata": {
        "id": "UKtVtcNGH7hD"
      },
      "execution_count": null,
      "outputs": []
    }
  ]
}