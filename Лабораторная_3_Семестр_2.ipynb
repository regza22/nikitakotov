{
  "nbformat": 4,
  "nbformat_minor": 0,
  "metadata": {
    "colab": {
      "provenance": [],
      "authorship_tag": "ABX9TyPS3Dk/IskXx6/zUjD7kaJS",
      "include_colab_link": true
    },
    "kernelspec": {
      "name": "python3",
      "display_name": "Python 3"
    },
    "language_info": {
      "name": "python"
    }
  },
  "cells": [
    {
      "cell_type": "markdown",
      "metadata": {
        "id": "view-in-github",
        "colab_type": "text"
      },
      "source": [
        "<a href=\"https://colab.research.google.com/github/regza22/nikitakotov/blob/main/%D0%9B%D0%B0%D0%B1%D0%BE%D1%80%D0%B0%D1%82%D0%BE%D1%80%D0%BD%D0%B0%D1%8F_3_%D0%A1%D0%B5%D0%BC%D0%B5%D1%81%D1%82%D1%80_2.ipynb\" target=\"_parent\"><img src=\"https://colab.research.google.com/assets/colab-badge.svg\" alt=\"Open In Colab\"/></a>"
      ]
    },
    {
      "cell_type": "markdown",
      "source": [
        "Задание 1"
      ],
      "metadata": {
        "id": "p8GEK6FEulDf"
      }
    },
    {
      "cell_type": "code",
      "source": [
        "name = input(\"Введите ваше имя: \")\n",
        "age = int(input(\"Введите ваш возраст: \"))\n",
        "for _ in range(10):\n",
        "    print(f\"Меня зовут {name} и мне {age} лет\")"
      ],
      "metadata": {
        "id": "Ss9S6LzFulKX"
      },
      "execution_count": null,
      "outputs": []
    },
    {
      "cell_type": "markdown",
      "source": [
        "Задание 2"
      ],
      "metadata": {
        "id": "CwmZhChSulPd"
      }
    },
    {
      "cell_type": "code",
      "source": [
        "number = int(input(\"Введите число от 1 до 9: \"))\n",
        "if number >= 1 and number <= 9:\n",
        "    for i in range(1, 11):\n",
        "        result = number * i\n",
        "        print(f\"{number} x {i} = {result}\")\n",
        "else:\n",
        "    print(\"Вы ввели неверное число.\")"
      ],
      "metadata": {
        "id": "VxXTJu9ZulVn"
      },
      "execution_count": null,
      "outputs": []
    },
    {
      "cell_type": "markdown",
      "source": [
        "Задание 3"
      ],
      "metadata": {
        "id": "d-zDuguOulb7"
      }
    },
    {
      "cell_type": "code",
      "source": [
        "for num in range(0, 101, 3):\n",
        "    print(num)"
      ],
      "metadata": {
        "id": "v-7jEimYulia"
      },
      "execution_count": null,
      "outputs": []
    },
    {
      "cell_type": "markdown",
      "source": [
        "Задание 4"
      ],
      "metadata": {
        "id": "apLtm_fwuloq"
      }
    },
    {
      "cell_type": "code",
      "source": [
        "n = int(input(\"Введите число для вычисления факториала: \"))\n",
        "factorial = 1\n",
        "for i in range(1, n + 1):\n",
        "    factorial *= i\n",
        "print(f\"Факториал числа {n}: {factorial}\")"
      ],
      "metadata": {
        "id": "vQTxp5soult6"
      },
      "execution_count": null,
      "outputs": []
    },
    {
      "cell_type": "markdown",
      "source": [
        "Задание 5"
      ],
      "metadata": {
        "id": "Y0tWiUWKulzd"
      }
    },
    {
      "cell_type": "code",
      "source": [
        "num = 20\n",
        "while num >= 0:\n",
        "    print(num)\n",
        "    num -= 1"
      ],
      "metadata": {
        "id": "Iq09wso1u-9f"
      },
      "execution_count": null,
      "outputs": []
    },
    {
      "cell_type": "markdown",
      "source": [
        "Задание 6"
      ],
      "metadata": {
        "id": "F6p4egYhvGoa"
      }
    },
    {
      "cell_type": "code",
      "source": [
        "limit = int(input(\"Введите предел последовательности Фибоначчи: \"))\n",
        "a, b = 0, 1\n",
        "while a <= limit:\n",
        "    print(a, end=\" \")\n",
        "    a, b = b, a+b"
      ],
      "metadata": {
        "id": "GyoRhr74ul4C"
      },
      "execution_count": null,
      "outputs": []
    },
    {
      "cell_type": "markdown",
      "source": [
        "Задание 7"
      ],
      "metadata": {
        "id": "qGOnt_POu0mk"
      }
    },
    {
      "cell_type": "code",
      "source": [
        "input_string = input(\"Введите строку: \")\n",
        "output_string = \"\"\n",
        "for index, char in enumerate(input_string):\n",
        "    output_string += f\"{char}{index+1}\"\n",
        "print(output_string)"
      ],
      "metadata": {
        "id": "RLd70sURu0py"
      },
      "execution_count": null,
      "outputs": []
    },
    {
      "cell_type": "markdown",
      "source": [
        "Задание 8"
      ],
      "metadata": {
        "id": "HcCDm8jWu0uW"
      }
    },
    {
      "cell_type": "code",
      "source": [
        "while True:\n",
        "    user_input = input(\"Введите два числа через пробел: \").split()\n",
        "    if len(user_input) != 2 or not all(map(str.isdigit, user_input)):\n",
        "        print(\"Ошибка! Нужно ввести ровно два целых числа!\")\n",
        "        continue\n",
        "\n",
        "    num1, num2 = map(int, user_input)\n",
        "    sum_result = num1 + num2\n",
        "    print(f\"Сумма равна: {sum_result}\")"
      ],
      "metadata": {
        "id": "IsNQX81Ju0xq"
      },
      "execution_count": null,
      "outputs": []
    }
  ]
}