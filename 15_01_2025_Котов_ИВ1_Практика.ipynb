{
  "nbformat": 4,
  "nbformat_minor": 0,
  "metadata": {
    "colab": {
      "provenance": [],
      "authorship_tag": "ABX9TyPW/6hQURATgEWz/FNbJhx0",
      "include_colab_link": true
    },
    "kernelspec": {
      "name": "python3",
      "display_name": "Python 3"
    },
    "language_info": {
      "name": "python"
    }
  },
  "cells": [
    {
      "cell_type": "markdown",
      "metadata": {
        "id": "view-in-github",
        "colab_type": "text"
      },
      "source": [
        "<a href=\"https://colab.research.google.com/github/regza22/nikitakotov/blob/main/15_01_2025_%D0%9A%D0%BE%D1%82%D0%BE%D0%B2_%D0%98%D0%921_%D0%9F%D1%80%D0%B0%D0%BA%D1%82%D0%B8%D0%BA%D0%B0.ipynb\" target=\"_parent\"><img src=\"https://colab.research.google.com/assets/colab-badge.svg\" alt=\"Open In Colab\"/></a>"
      ]
    },
    {
      "cell_type": "markdown",
      "source": [
        "Задание 1"
      ],
      "metadata": {
        "id": "2nFG6X3Il26B"
      }
    },
    {
      "cell_type": "code",
      "source": [
        "import random\n",
        "with open('input.txt', 'r', encoding='utf-8') as infile:\n",
        "    lines = infile.readlines()\n",
        "with open('result.txt', 'w', encoding='utf-8') as outfile:\n",
        "    for line in lines:\n",
        "        random_number = random.randint(1, 500)\n",
        "        outfile.write(f\"{line.strip()} {random_number}\\n\")\n"
      ],
      "metadata": {
        "id": "_NBW0zV8b6y1"
      },
      "execution_count": 11,
      "outputs": []
    }
  ]
}