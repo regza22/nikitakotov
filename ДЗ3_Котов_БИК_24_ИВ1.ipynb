{
  "nbformat": 4,
  "nbformat_minor": 0,
  "metadata": {
    "colab": {
      "provenance": [],
      "authorship_tag": "ABX9TyOUWrdruOlVuCu4Hp/flBYB",
      "include_colab_link": true
    },
    "kernelspec": {
      "name": "python3",
      "display_name": "Python 3"
    },
    "language_info": {
      "name": "python"
    }
  },
  "cells": [
    {
      "cell_type": "markdown",
      "metadata": {
        "id": "view-in-github",
        "colab_type": "text"
      },
      "source": [
        "<a href=\"https://colab.research.google.com/github/regza22/nikitakotov/blob/main/%D0%94%D0%973_%D0%9A%D0%BE%D1%82%D0%BE%D0%B2_%D0%91%D0%98%D0%9A_24_%D0%98%D0%921.ipynb\" target=\"_parent\"><img src=\"https://colab.research.google.com/assets/colab-badge.svg\" alt=\"Open In Colab\"/></a>"
      ]
    },
    {
      "cell_type": "markdown",
      "source": [
        "Задание 1"
      ],
      "metadata": {
        "id": "dIuDyos6-B0O"
      }
    },
    {
      "cell_type": "code",
      "source": [
        "def find_substr(a, b):\n",
        "    lower_a = a.lower()\n",
        "    lower_b = b.lower()\n",
        "    index = lower_a.find(lower_b)\n",
        "    substr = a[index:index+len(b)]\n",
        "    return index, substr\n",
        "\n",
        "a = \"Привет, мир, пока\"\n",
        "b = \"Мир\"\n",
        "result = find_substr(a, b)\n",
        "result"
      ],
      "metadata": {
        "colab": {
          "base_uri": "https://localhost:8080/"
        },
        "id": "TYk4pGSH-Dpy",
        "outputId": "02f05ad4-51ae-4dd8-bd36-6e52230111a5"
      },
      "execution_count": 1,
      "outputs": [
        {
          "output_type": "execute_result",
          "data": {
            "text/plain": [
              "(8, 'мир')"
            ]
          },
          "metadata": {},
          "execution_count": 1
        }
      ]
    },
    {
      "cell_type": "markdown",
      "source": [
        "Задание 2"
      ],
      "metadata": {
        "id": "jnunlThT-FgN"
      }
    },
    {
      "cell_type": "code",
      "source": [
        "inp = input()\n",
        "\n",
        "list = []\n",
        "\n",
        "answer = inp.split(\",\")\n",
        "for i in answer:\n",
        "  list.append(len(i))\n",
        "print(list)"
      ],
      "metadata": {
        "colab": {
          "base_uri": "https://localhost:8080/"
        },
        "id": "EHl2xtFd-GWE",
        "outputId": "5aeff91f-69f0-4514-9553-5f3ce2b4d741"
      },
      "execution_count": 2,
      "outputs": [
        {
          "output_type": "stream",
          "name": "stdout",
          "text": [
            "3\n",
            "[1]\n"
          ]
        }
      ]
    },
    {
      "cell_type": "markdown",
      "source": [
        "Задание 3"
      ],
      "metadata": {
        "id": "Kd1FbRWK-IVJ"
      }
    },
    {
      "cell_type": "code",
      "source": [
        "import re\n",
        "n = 8\n",
        "m = 5\n",
        "stroka = \"Привет, мир\"\n",
        "\n",
        "stroka = re.sub(r'[^\\w\\s]', ' ', stroka) #вместо удаления лишних символов заменяем их на пробелы, чтобы не изменялся индекс\n",
        "\n",
        "print(stroka[:n].split())\n",
        "print(stroka[m:].split())"
      ],
      "metadata": {
        "colab": {
          "base_uri": "https://localhost:8080/"
        },
        "id": "2lLxkCQE-JIv",
        "outputId": "0358c6d8-23e5-42c7-a108-a1c3e64f87dd"
      },
      "execution_count": 6,
      "outputs": [
        {
          "output_type": "stream",
          "name": "stdout",
          "text": [
            "['Привет']\n",
            "['т', 'мир']\n"
          ]
        }
      ]
    }
  ]
}