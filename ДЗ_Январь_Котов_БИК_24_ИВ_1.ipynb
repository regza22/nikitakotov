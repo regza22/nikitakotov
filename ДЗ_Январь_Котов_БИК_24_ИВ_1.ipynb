{
  "nbformat": 4,
  "nbformat_minor": 0,
  "metadata": {
    "colab": {
      "provenance": [],
      "authorship_tag": "ABX9TyNit5mTp+BbQH5jyq23D/If",
      "include_colab_link": true
    },
    "kernelspec": {
      "name": "python3",
      "display_name": "Python 3"
    },
    "language_info": {
      "name": "python"
    }
  },
  "cells": [
    {
      "cell_type": "markdown",
      "metadata": {
        "id": "view-in-github",
        "colab_type": "text"
      },
      "source": [
        "<a href=\"https://colab.research.google.com/github/regza22/nikitakotov/blob/homework/%D0%94%D0%97_%D0%AF%D0%BD%D0%B2%D0%B0%D1%80%D1%8C_%D0%9A%D0%BE%D1%82%D0%BE%D0%B2_%D0%91%D0%98%D0%9A_24_%D0%98%D0%92_1.ipynb\" target=\"_parent\"><img src=\"https://colab.research.google.com/assets/colab-badge.svg\" alt=\"Open In Colab\"/></a>"
      ]
    },
    {
      "cell_type": "markdown",
      "source": [
        "Задание №1"
      ],
      "metadata": {
        "id": "yIQLw3k6SgWO"
      }
    },
    {
      "cell_type": "code",
      "source": [
        "input_numbers = input(\"Введите числа через пробел: \").split()\n",
        "seen_numbers = []\n",
        "for number in input_numbers:\n",
        "    if number in seen_numbers:\n",
        "        print(\"YES\")\n",
        "    else:\n",
        "        print(\"NO\")\n",
        "        seen_numbers.append(number)"
      ],
      "metadata": {
        "id": "MID45dq0SuZL"
      },
      "execution_count": null,
      "outputs": []
    },
    {
      "cell_type": "markdown",
      "source": [
        "Задание №2"
      ],
      "metadata": {
        "id": "zVQbMIpmSulC"
      }
    },
    {
      "cell_type": "code",
      "source": [
        "from collections import deque, defaultdict # deque для двусторонней очереди (можно добавлять и удалять элементы как с начала, так и с конца), defaultdict  позволяет автоматически создавать значения для новых ключей, которые еще не существуют в словаре\n",
        "\n",
        "def min_transfers(N, M, lines, A, B):\n",
        "    station_lines = defaultdict(list)\n",
        "\n",
        "    for line_index in range(M):\n",
        "        for station in lines[line_index]:\n",
        "            station_lines[station].append(line_index)\n",
        "\n",
        "    queue = deque()\n",
        "    visited = set()\n",
        "    transfers = 0\n",
        "\n",
        "    for line in station_lines[A]:\n",
        "        queue.append((line, transfers))\n",
        "        visited.add((line, A))\n",
        "\n",
        "    while queue:\n",
        "        current_line, transfers = queue.popleft()\n",
        "\n",
        "        for station in lines[current_line]:\n",
        "            if station == B:\n",
        "                return transfers\n",
        "\n",
        "            for next_line in station_lines[station]:\n",
        "                if (next_line, station) not in visited:\n",
        "                    visited.add((next_line, station))\n",
        "                    queue.append((next_line, transfers + 1))\n",
        "\n",
        "    return -1\n",
        "\n",
        "N = int(input(\"Введите количество станций: \"))\n",
        "M = int(input(\"Введите количество линий: \"))\n",
        "lines = []\n",
        "\n",
        "for _ in range(M):\n",
        "    line_data = list(map(int, input(\"Введите количество станций и номера станций: \").split()))\n",
        "    P = line_data[0]\n",
        "    stations = line_data[1:P + 1]\n",
        "    lines.append(stations)\n",
        "\n",
        "A, B = map(int, input(\"Введите номера начальной и конечной станции: \").split())\n",
        "\n",
        "\n",
        "result = min_transfers(N, M, lines, A, B)\n",
        "print(result)"
      ],
      "metadata": {
        "id": "khLZty8VSvuH"
      },
      "execution_count": null,
      "outputs": []
    },
    {
      "cell_type": "markdown",
      "source": [
        "Задание №3"
      ],
      "metadata": {
        "id": "vegj6_NTSv5E"
      }
    },
    {
      "cell_type": "code",
      "source": [
        "N = int(input(\"Введите количество стран: \"))\n",
        "\n",
        "city_to_country = {}\n",
        "\n",
        "for _ in range(N):\n",
        "    data = input(\"Введите страну и города: \").split()\n",
        "\n",
        "    country = data[0]\n",
        "\n",
        "    cities = data[1:]\n",
        "\n",
        "    for city in cities:\n",
        "        city_to_country[city] = country\n",
        "\n",
        "M = int(input(\"Введите количество запросов: \"))\n",
        "\n",
        "for _ in range(M):\n",
        "    city_query = input(\"Введите название города: \")\n",
        "\n",
        "    if city_query in city_to_country:\n",
        "        print(city_to_country[city_query])\n",
        "    else:\n",
        "        print(\"Город не найден\")"
      ],
      "metadata": {
        "id": "CSRC487FSwxJ"
      },
      "execution_count": null,
      "outputs": []
    },
    {
      "cell_type": "markdown",
      "source": [
        "Задание №4"
      ],
      "metadata": {
        "id": "Gv9On-BzSw6T"
      }
    },
    {
      "cell_type": "code",
      "source": [
        "votes = {}\n",
        "\n",
        "while True:\n",
        "    try:\n",
        "        line = input()\n",
        "        if not line:\n",
        "            break\n",
        "\n",
        "        parts = line.split()\n",
        "        candidate = \" \".join(parts[:-1])\n",
        "        votes_count = int(parts[-1])\n",
        "\n",
        "        if candidate in votes:\n",
        "            votes[candidate] += votes_count\n",
        "        else:\n",
        "            votes[candidate] = votes_count\n",
        "\n",
        "    except EOFError:\n",
        "        break\n",
        "\n",
        "sorted_candidates = sorted(votes.keys())\n",
        "\n",
        "for candidate in sorted_candidates:\n",
        "    print(candidate, votes[candidate])"
      ],
      "metadata": {
        "id": "oZn-UYdRSxxE"
      },
      "execution_count": null,
      "outputs": []
    },
    {
      "cell_type": "markdown",
      "source": [
        "Задание №5"
      ],
      "metadata": {
        "id": "ILxB5PIASx63"
      }
    },
    {
      "cell_type": "code",
      "source": [
        "from collections import defaultdict\n",
        "\n",
        "word_count = defaultdict(int)\n",
        "\n",
        "text = input(\"Введите текст: \")\n",
        "\n",
        "words = text.split()\n",
        "\n",
        "for word in words:\n",
        "    word_count[word] += 1\n",
        "\n",
        "sorted_words = sorted(word_count.items(), key=lambda item: (-item[1], item[0]))\n",
        "\n",
        "for word, count in sorted_words:\n",
        "    print(word)"
      ],
      "metadata": {
        "id": "K7HRyfbXSzLY"
      },
      "execution_count": null,
      "outputs": []
    },
    {
      "cell_type": "markdown",
      "source": [
        "Задание №6"
      ],
      "metadata": {
        "id": "gLnaa8I0SzU5"
      }
    },
    {
      "cell_type": "code",
      "source": [],
      "metadata": {
        "id": "BenRUUuRS0gp"
      },
      "execution_count": null,
      "outputs": []
    },
    {
      "cell_type": "markdown",
      "source": [
        "Задание №7"
      ],
      "metadata": {
        "id": "Tr_UzL7bS0qT"
      }
    },
    {
      "cell_type": "code",
      "source": [
        "N, M, X, Y = map(int, input().split())\n",
        "matrix = [[0] * M for _ in range(N)]\n",
        "num = 0\n",
        "for i in range(N):\n",
        "    if i % 2 == 0:\n",
        "        for j in range(M):\n",
        "            matrix[i][j] = num\n",
        "            num += 1\n",
        "    else:\n",
        "        for j in range(M-1, -1, -1):\n",
        "            matrix[i][j] = num\n",
        "            num += 1\n",
        "\n",
        "print(matrix[X-1][Y-1])"
      ],
      "metadata": {
        "id": "hieOyt4wS14N"
      },
      "execution_count": null,
      "outputs": []
    },
    {
      "cell_type": "markdown",
      "source": [
        "Задание №8"
      ],
      "metadata": {
        "id": "pzT3gJ37S2B9"
      }
    },
    {
      "cell_type": "code",
      "source": [
        "N = int(input())\n",
        "calories = [list(map(int, input().split())) for _ in range(N)]\n",
        "x, y = 0, 0\n",
        "total_calories = calories[N-1][0]\n",
        "\n",
        "while x < N - 1 or y < N - 1:\n",
        "    if x < N - 1 and (y == N - 1 or calories[x + 1][y] > calories[x][y + 1]):\n",
        "        x += 1\n",
        "    else:\n",
        "        y += 1\n",
        "    total_calories += calories[N - 1 - x][y]\n",
        "\n",
        "print(total_calories)"
      ],
      "metadata": {
        "id": "l7SbTw0uS3GC"
      },
      "execution_count": null,
      "outputs": []
    },
    {
      "cell_type": "markdown",
      "source": [
        "Задание №9"
      ],
      "metadata": {
        "id": "krItfRwhS3X1"
      }
    },
    {
      "cell_type": "code",
      "source": [
        "X = int(input())\n",
        "N = int(input())\n",
        "table = [list(map(int, input().split())) for _ in range(N)]\n",
        "for col in range(N):\n",
        "    found = False\n",
        "    for row in range(N):\n",
        "        if table[row][col] == X:\n",
        "            found = True\n",
        "            break\n",
        "    print(\"YES\" if found else \"NO\")"
      ],
      "metadata": {
        "id": "dA1xISdzS4eK"
      },
      "execution_count": null,
      "outputs": []
    },
    {
      "cell_type": "markdown",
      "source": [
        "Задание №10"
      ],
      "metadata": {
        "id": "YIJQatTGS4pp"
      }
    },
    {
      "cell_type": "code",
      "source": [
        "from collections import defaultdict\n",
        "database = defaultdict(lambda: defaultdict(int))\n",
        "while True:\n",
        "    try:\n",
        "        line = input()\n",
        "        if not line:\n",
        "            break\n",
        "        buyer, product, quantity = line.split()\n",
        "        quantity = int(quantity)\n",
        "        database[buyer][product] += quantity\n",
        "    except EOFError:\n",
        "        break\n",
        "sorted_buyers = sorted(database.keys())\n",
        "for buyer in sorted_buyers:\n",
        "    print(f\"{buyer}:\")\n",
        "    sorted_products = sorted(database[buyer].items())\n",
        "    for product, quantity in sorted_products:\n",
        "        print(f\"{product} {quantity}\")"
      ],
      "metadata": {
        "id": "Il962BltS5o3"
      },
      "execution_count": null,
      "outputs": []
    },
    {
      "cell_type": "markdown",
      "source": [
        "Задание №11"
      ],
      "metadata": {
        "id": "FHbDD0msS5wa"
      }
    },
    {
      "cell_type": "code",
      "source": [],
      "metadata": {
        "id": "DnuXTgjgS64Z"
      },
      "execution_count": null,
      "outputs": []
    }
  ]
}