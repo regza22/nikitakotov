{
  "nbformat": 4,
  "nbformat_minor": 0,
  "metadata": {
    "colab": {
      "provenance": [],
      "authorship_tag": "ABX9TyMVcij4m9wN3RVcYnIeX6dx",
      "include_colab_link": true
    },
    "kernelspec": {
      "name": "python3",
      "display_name": "Python 3"
    },
    "language_info": {
      "name": "python"
    }
  },
  "cells": [
    {
      "cell_type": "markdown",
      "metadata": {
        "id": "view-in-github",
        "colab_type": "text"
      },
      "source": [
        "<a href=\"https://colab.research.google.com/github/regza22/nikitakotov/blob/main/07_10_2024_%D0%9A%D0%BE%D1%82%D0%BE%D0%B2_%D0%91%D0%98%D0%9A_24_%D0%98%D0%921_%D0%9B%D0%B0%D0%B1%D0%BE%D1%80%D0%B0%D1%82%D0%BE%D1%80%D0%BD%D0%B0%D1%8F_%D1%80%D0%B0%D0%B1%D0%BE%D1%82%D0%B0_%E2%84%963.ipynb\" target=\"_parent\"><img src=\"https://colab.research.google.com/assets/colab-badge.svg\" alt=\"Open In Colab\"/></a>"
      ]
    },
    {
      "cell_type": "markdown",
      "source": [
        "Задание №1"
      ],
      "metadata": {
        "id": "qOglY3_0M-PG"
      }
    },
    {
      "cell_type": "code",
      "source": [
        "inp = input()\n",
        "#inp = (\"абв,абвг,вбгд\")\n",
        "list = []\n",
        "answer = inp.split(\",\")\n",
        "for i in answer:\n",
        "  list.append(len(i))\n",
        "print(list)"
      ],
      "metadata": {
        "colab": {
          "base_uri": "https://localhost:8080/"
        },
        "id": "JwnBKeI8M_aD",
        "outputId": "5dd59fdb-c0e4-4109-bca1-d86b870ccd4d"
      },
      "execution_count": 1,
      "outputs": [
        {
          "output_type": "stream",
          "name": "stdout",
          "text": [
            "3\n",
            "[1]\n"
          ]
        }
      ]
    },
    {
      "cell_type": "markdown",
      "source": [
        "Задание №2"
      ],
      "metadata": {
        "id": "LSb8QfgGNGge"
      }
    },
    {
      "cell_type": "code",
      "source": [
        "n = 8\n",
        "m = 5\n",
        "string = \"Привет мир\"\n",
        "\n",
        "print(string[:n].split())\n",
        "print(string[m:].split())"
      ],
      "metadata": {
        "colab": {
          "base_uri": "https://localhost:8080/"
        },
        "id": "hoHEzwmGNHrJ",
        "outputId": "56d84c73-d763-4740-a5c8-eab3870d2220"
      },
      "execution_count": 2,
      "outputs": [
        {
          "output_type": "stream",
          "name": "stdout",
          "text": [
            "['Привет', 'м']\n",
            "['т', 'мир']\n"
          ]
        }
      ]
    }
  ]
}