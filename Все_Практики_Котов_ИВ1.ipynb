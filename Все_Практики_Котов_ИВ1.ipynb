{
  "nbformat": 4,
  "nbformat_minor": 0,
  "metadata": {
    "colab": {
      "provenance": [],
      "authorship_tag": "ABX9TyNlNqpX8oEAQ4o68ww1ExUh",
      "include_colab_link": true
    },
    "kernelspec": {
      "name": "python3",
      "display_name": "Python 3"
    },
    "language_info": {
      "name": "python"
    }
  },
  "cells": [
    {
      "cell_type": "markdown",
      "metadata": {
        "id": "view-in-github",
        "colab_type": "text"
      },
      "source": [
        "<a href=\"https://colab.research.google.com/github/regza22/nikitakotov/blob/main/%D0%92%D1%81%D0%B5_%D0%9F%D1%80%D0%B0%D0%BA%D1%82%D0%B8%D0%BA%D0%B8_%D0%9A%D0%BE%D1%82%D0%BE%D0%B2_%D0%98%D0%921.ipynb\" target=\"_parent\"><img src=\"https://colab.research.google.com/assets/colab-badge.svg\" alt=\"Open In Colab\"/></a>"
      ]
    },
    {
      "cell_type": "markdown",
      "source": [
        "**Практика** **2**"
      ],
      "metadata": {
        "id": "tVu8gUia8QzY"
      }
    },
    {
      "cell_type": "markdown",
      "source": [
        "Задание 1"
      ],
      "metadata": {
        "id": "_hI7qG3M8iLQ"
      }
    },
    {
      "cell_type": "code",
      "source": [
        "a = int(input(\"Длина первого катета: \"))\n",
        "b = int(input(\"Длина второго катета: \"))\n",
        "S = (a * b) / 2\n",
        "print(\"Площадь треугольника: \",S)"
      ],
      "metadata": {
        "colab": {
          "base_uri": "https://localhost:8080/"
        },
        "id": "Ab7sL-LE8jg4",
        "outputId": "274cfa17-7ff8-43e2-d6b3-518be3125b96"
      },
      "execution_count": null,
      "outputs": [
        {
          "output_type": "stream",
          "name": "stdout",
          "text": [
            "Длина первого катета: 3\n",
            "Длина второго катета: 3\n",
            "Площадь треугольника:  4.5\n"
          ]
        }
      ]
    },
    {
      "cell_type": "markdown",
      "source": [
        "Задание 2"
      ],
      "metadata": {
        "id": "Yas8QPb48yHC"
      }
    },
    {
      "cell_type": "code",
      "source": [
        "a=876\n",
        "b=a//100\n",
        "c=(a//10)%10\n",
        "d=a%10\n",
        "print(a)\n",
        "print(b, c, d)\n",
        "print(b)\n",
        "print(c)\n",
        "print(d)"
      ],
      "metadata": {
        "colab": {
          "base_uri": "https://localhost:8080/"
        },
        "id": "zhOAnwvc8zCK",
        "outputId": "70bc00cd-ed81-4f93-e736-c296986f73f1"
      },
      "execution_count": null,
      "outputs": [
        {
          "output_type": "stream",
          "name": "stdout",
          "text": [
            "876\n",
            "8 7 6\n",
            "8\n",
            "7\n",
            "6\n"
          ]
        }
      ]
    },
    {
      "cell_type": "markdown",
      "source": [
        "задание 3"
      ],
      "metadata": {
        "id": "nGEOBwZz87b-"
      }
    },
    {
      "cell_type": "code",
      "source": [
        "n= int(input('Введите секунд: '))\n",
        "s=n%60\n",
        "m=(n%3600)//60\n",
        "h=(n//3600)%24\n",
        "chasiki = f'{h}:{m:02}:{s:02}'\n",
        "print(chasiki)"
      ],
      "metadata": {
        "colab": {
          "base_uri": "https://localhost:8080/"
        },
        "id": "GmdaZpIj88Y-",
        "outputId": "76ae4a7c-16dd-4df1-b57b-01ff7305010d"
      },
      "execution_count": null,
      "outputs": [
        {
          "output_type": "stream",
          "name": "stdout",
          "text": [
            "Введите секунд: 3600\n",
            "1:00:00\n"
          ]
        }
      ]
    },
    {
      "cell_type": "markdown",
      "source": [
        "**Практика** **3**"
      ],
      "metadata": {
        "id": "SS4UJFgq9Cds"
      }
    },
    {
      "cell_type": "markdown",
      "source": [
        "задание 1"
      ],
      "metadata": {
        "id": "odSiyP2a9Fc_"
      }
    },
    {
      "cell_type": "code",
      "source": [
        "alphabet=input()\n",
        "res=alphabet.split(',')\n",
        "print((len(res[0])),len(res[1]),len(res[2]),len(res[3]))\n"
      ],
      "metadata": {
        "colab": {
          "base_uri": "https://localhost:8080/"
        },
        "id": "uS-Slbro9GLe",
        "outputId": "221850b3-f3cc-4b6f-f39e-af8ab061d8f1"
      },
      "execution_count": null,
      "outputs": [
        {
          "output_type": "stream",
          "name": "stdout",
          "text": [
            "1111,123123,121,1252131\n",
            "4 6 3 7\n"
          ]
        }
      ]
    },
    {
      "cell_type": "markdown",
      "source": [
        "Задание 2"
      ],
      "metadata": {
        "id": "PXTUO8PE9aRI"
      }
    },
    {
      "cell_type": "code",
      "source": [
        "n=8\n",
        "m=5\n",
        "string=\"Привет мир\"\n",
        "print(string[:n].split())\n",
        "print(string[m:].split())\n"
      ],
      "metadata": {
        "colab": {
          "base_uri": "https://localhost:8080/"
        },
        "id": "5hR8wXdq9bth",
        "outputId": "ac94b984-b8a3-4d45-d02a-10459def1820"
      },
      "execution_count": null,
      "outputs": [
        {
          "output_type": "stream",
          "name": "stdout",
          "text": [
            "['Привет', 'м']\n",
            "['т', 'мир']\n"
          ]
        }
      ]
    },
    {
      "cell_type": "markdown",
      "source": [
        "**Практика** **4**"
      ],
      "metadata": {
        "id": "9kiVtq_99iQ5"
      }
    },
    {
      "cell_type": "markdown",
      "source": [
        "задание 1"
      ],
      "metadata": {
        "id": "NztrY3Xp9kxV"
      }
    },
    {
      "cell_type": "code",
      "source": [
        "http=int(input('Введите номер ошибки:' ))\n",
        "match http:\n",
        "  case 400:\n",
        "    print('Bad Request')\n",
        "  case 401:\n",
        "    print('Unauthorized')\n",
        "  case 403:\n",
        "    print('Forbidden')\n",
        "  case 404:\n",
        "    print('Not found')\n",
        "  case 410:\n",
        "    print('Gone')\n",
        "  case _:\n",
        "    print('Error')"
      ],
      "metadata": {
        "colab": {
          "base_uri": "https://localhost:8080/"
        },
        "id": "Iszfmupz9oWM",
        "outputId": "b4233df0-e71d-4269-e109-9a925fdcb026"
      },
      "execution_count": null,
      "outputs": [
        {
          "output_type": "stream",
          "name": "stdout",
          "text": [
            "Введите номер ошибки:401\n",
            "Unauthorized\n"
          ]
        }
      ]
    },
    {
      "cell_type": "markdown",
      "source": [
        "Задание 2"
      ],
      "metadata": {
        "id": "hmvenc4X9rW6"
      }
    },
    {
      "cell_type": "code",
      "source": [
        "x=int(input('Введите координату x: '))\n",
        "y=int(input('Введите координату y: '))\n",
        "if x>0 and y>0:\n",
        "  print('первая четверть')\n",
        "if x<0 and y>0:\n",
        "  print('вторая четверть')\n",
        "if x<0 and y<0:\n",
        "  print('третья четверть')\n",
        "if x>0 and y<0:\n",
        "  print('четвертая четверть')"
      ],
      "metadata": {
        "colab": {
          "base_uri": "https://localhost:8080/"
        },
        "id": "6L39FDzl9s5V",
        "outputId": "8d011eff-2771-4729-ccec-ace8113a61f1"
      },
      "execution_count": null,
      "outputs": [
        {
          "output_type": "stream",
          "name": "stdout",
          "text": [
            "Введите координату x: 5\n",
            "Введите координату y: 1\n",
            "первая четверть\n"
          ]
        }
      ]
    },
    {
      "cell_type": "markdown",
      "source": [
        "Задание 3"
      ],
      "metadata": {
        "id": "f74v3xTH9yJd"
      }
    },
    {
      "cell_type": "code",
      "source": [
        "god=int(input('Введите год: '))\n",
        "if god%4==0 or (god%100==0 and god%400==0):\n",
        "  print('ДА')\n",
        "else:\n",
        "  print('НЕТ')"
      ],
      "metadata": {
        "colab": {
          "base_uri": "https://localhost:8080/"
        },
        "id": "TMPc8v9E9zp7",
        "outputId": "3be7d9e4-561f-4909-dff8-beb951877023"
      },
      "execution_count": null,
      "outputs": [
        {
          "output_type": "stream",
          "name": "stdout",
          "text": [
            "Введите год: 2100\n",
            "ДА\n"
          ]
        }
      ]
    },
    {
      "cell_type": "markdown",
      "source": [
        "**Практика** **5**"
      ],
      "metadata": {
        "id": "v93kCHit95rM"
      }
    },
    {
      "cell_type": "markdown",
      "source": [
        "Задание 1"
      ],
      "metadata": {
        "id": "1cIavw4297wk"
      }
    },
    {
      "cell_type": "code",
      "source": [
        "a=int(input())\n",
        "sum=0\n",
        "while a!=0:\n",
        "    if a>0:\n",
        "        sum+=a\n",
        "    a=int(input())\n",
        "print(f\"Сумма введённых чисел = {sum}\")"
      ],
      "metadata": {
        "colab": {
          "base_uri": "https://localhost:8080/"
        },
        "id": "zG64vHGo99WY",
        "outputId": "7667f3f8-bcbe-4187-e0f4-8003acd42c4a"
      },
      "execution_count": null,
      "outputs": [
        {
          "output_type": "stream",
          "name": "stdout",
          "text": [
            "231\n",
            "534\n",
            "6666\n",
            "66\n",
            "1\n",
            "0\n",
            "Сумма введённых чисел = 7498\n"
          ]
        }
      ]
    },
    {
      "cell_type": "markdown",
      "source": [
        "Задание 2"
      ],
      "metadata": {
        "id": "MZ9WklHj-J7E"
      }
    },
    {
      "cell_type": "code",
      "source": [
        "while True:\n",
        "    n=int(input(\"Введите n:\"))\n",
        "    m=int(input(\"Введите m:\"))\n",
        "    s=n+m\n",
        "    print(\"Сумма:\",s)\n",
        "    if n==m:\n",
        "        print(\"Вы ввели одинаковые числа. Программа завершена.\")\n",
        "        break"
      ],
      "metadata": {
        "colab": {
          "base_uri": "https://localhost:8080/"
        },
        "id": "S2V8Y9km-L5m",
        "outputId": "67ef217e-c51b-4834-dec2-06f3290d684c"
      },
      "execution_count": null,
      "outputs": [
        {
          "output_type": "stream",
          "name": "stdout",
          "text": [
            "Введите n:2\n",
            "Введите m:5\n",
            "Сумма: 7\n",
            "Введите n:1\n",
            "Введите m:1\n",
            "Сумма: 2\n",
            "Вы ввели одинаковые числа. Программа завершена.\n"
          ]
        }
      ]
    },
    {
      "cell_type": "markdown",
      "source": [
        "Задание 3"
      ],
      "metadata": {
        "id": "fHJo-QaA-UBB"
      }
    },
    {
      "cell_type": "code",
      "source": [],
      "metadata": {
        "id": "fCii6vQv-U7R"
      },
      "execution_count": null,
      "outputs": []
    },
    {
      "cell_type": "markdown",
      "source": [
        "**Практика** **6**"
      ],
      "metadata": {
        "id": "X8K-PV_n-jQm"
      }
    },
    {
      "cell_type": "markdown",
      "source": [
        "Задание 1"
      ],
      "metadata": {
        "id": "PqAUvceT-nMn"
      }
    },
    {
      "cell_type": "code",
      "source": [
        "m=[]\n",
        "kvm=[]\n",
        "tvm=[]\n",
        "for i in range(1,11):\n",
        "  m.append(i)\n",
        "  kvm.append(i**2)\n",
        "  tvm.append(i**3)\n",
        "print(m,kvm,tvm, sep='\\n')"
      ],
      "metadata": {
        "colab": {
          "base_uri": "https://localhost:8080/"
        },
        "id": "Ilbv474y-oEM",
        "outputId": "87cdf916-62dc-4656-a44e-aa05ae33140d"
      },
      "execution_count": null,
      "outputs": [
        {
          "output_type": "stream",
          "name": "stdout",
          "text": [
            "[1, 2, 3, 4, 5, 6, 7, 8, 9, 10]\n",
            "[1, 4, 9, 16, 25, 36, 49, 64, 81, 100]\n",
            "[1, 8, 27, 64, 125, 216, 343, 512, 729, 1000]\n"
          ]
        }
      ]
    },
    {
      "cell_type": "markdown",
      "source": [
        "Задание 2"
      ],
      "metadata": {
        "id": "EEzZrOrx-tbg"
      }
    },
    {
      "cell_type": "code",
      "source": [
        "f=[]\n",
        "a=1\n",
        "while a!=0:\n",
        "  a=int(input())\n",
        "  f.append(a)\n",
        "print(f,min(f),max(f),sorted(f),sorted(f,reverse=True),len(f),f.count(1),sum(f),sep='\\n')"
      ],
      "metadata": {
        "colab": {
          "base_uri": "https://localhost:8080/",
          "height": 193
        },
        "id": "Qw5BsbR7-usM",
        "outputId": "554b0957-61e8-46af-ddee-6675488672dc"
      },
      "execution_count": null,
      "outputs": [
        {
          "name": "stdout",
          "output_type": "stream",
          "text": [
            "0\n"
          ]
        },
        {
          "output_type": "error",
          "ename": "TypeError",
          "evalue": "'int' object is not callable",
          "traceback": [
            "\u001b[0;31m---------------------------------------------------------------------------\u001b[0m",
            "\u001b[0;31mTypeError\u001b[0m                                 Traceback (most recent call last)",
            "\u001b[0;32m<ipython-input-24-7220e2f85547>\u001b[0m in \u001b[0;36m<cell line: 0>\u001b[0;34m()\u001b[0m\n\u001b[1;32m      4\u001b[0m   \u001b[0ma\u001b[0m\u001b[0;34m=\u001b[0m\u001b[0mint\u001b[0m\u001b[0;34m(\u001b[0m\u001b[0minput\u001b[0m\u001b[0;34m(\u001b[0m\u001b[0;34m)\u001b[0m\u001b[0;34m)\u001b[0m\u001b[0;34m\u001b[0m\u001b[0;34m\u001b[0m\u001b[0m\n\u001b[1;32m      5\u001b[0m   \u001b[0mf\u001b[0m\u001b[0;34m.\u001b[0m\u001b[0mappend\u001b[0m\u001b[0;34m(\u001b[0m\u001b[0ma\u001b[0m\u001b[0;34m)\u001b[0m\u001b[0;34m\u001b[0m\u001b[0;34m\u001b[0m\u001b[0m\n\u001b[0;32m----> 6\u001b[0;31m \u001b[0mprint\u001b[0m\u001b[0;34m(\u001b[0m\u001b[0mf\u001b[0m\u001b[0;34m,\u001b[0m\u001b[0mmin\u001b[0m\u001b[0;34m(\u001b[0m\u001b[0mf\u001b[0m\u001b[0;34m)\u001b[0m\u001b[0;34m,\u001b[0m\u001b[0mmax\u001b[0m\u001b[0;34m(\u001b[0m\u001b[0mf\u001b[0m\u001b[0;34m)\u001b[0m\u001b[0;34m,\u001b[0m\u001b[0msorted\u001b[0m\u001b[0;34m(\u001b[0m\u001b[0mf\u001b[0m\u001b[0;34m)\u001b[0m\u001b[0;34m,\u001b[0m\u001b[0msorted\u001b[0m\u001b[0;34m(\u001b[0m\u001b[0mf\u001b[0m\u001b[0;34m,\u001b[0m\u001b[0mreverse\u001b[0m\u001b[0;34m=\u001b[0m\u001b[0;32mTrue\u001b[0m\u001b[0;34m)\u001b[0m\u001b[0;34m,\u001b[0m\u001b[0mlen\u001b[0m\u001b[0;34m(\u001b[0m\u001b[0mf\u001b[0m\u001b[0;34m)\u001b[0m\u001b[0;34m,\u001b[0m\u001b[0mf\u001b[0m\u001b[0;34m.\u001b[0m\u001b[0mcount\u001b[0m\u001b[0;34m(\u001b[0m\u001b[0;36m1\u001b[0m\u001b[0;34m)\u001b[0m\u001b[0;34m,\u001b[0m\u001b[0msum\u001b[0m\u001b[0;34m(\u001b[0m\u001b[0mf\u001b[0m\u001b[0;34m)\u001b[0m\u001b[0;34m,\u001b[0m\u001b[0msep\u001b[0m\u001b[0;34m=\u001b[0m\u001b[0;34m'\\n'\u001b[0m\u001b[0;34m)\u001b[0m\u001b[0;34m\u001b[0m\u001b[0;34m\u001b[0m\u001b[0m\n\u001b[0m",
            "\u001b[0;31mTypeError\u001b[0m: 'int' object is not callable"
          ]
        }
      ]
    },
    {
      "cell_type": "markdown",
      "source": [
        "Задание 3"
      ],
      "metadata": {
        "id": "fgNT3rpF_H44"
      }
    },
    {
      "cell_type": "code",
      "source": [
        "m=[]\n",
        "a=1\n",
        "while a!=0:\n",
        "  a=int(input())\n",
        "  if a%2==0 and a%10==0:\n",
        "    m.append(a)\n",
        "print(m)\n"
      ],
      "metadata": {
        "colab": {
          "base_uri": "https://localhost:8080/"
        },
        "id": "EVM69EcO_IvE",
        "outputId": "92a8a4aa-5e3c-4ae3-cbc6-76faa95bebaa"
      },
      "execution_count": null,
      "outputs": [
        {
          "output_type": "stream",
          "name": "stdout",
          "text": [
            "10\n",
            "11\n",
            "30\n",
            "0\n",
            "[10, 30, 0]\n"
          ]
        }
      ]
    },
    {
      "cell_type": "markdown",
      "source": [
        "**Практика** **7**"
      ],
      "metadata": {
        "id": "bLbrP_6u_P_3"
      }
    },
    {
      "cell_type": "markdown",
      "source": [
        "Задание 1"
      ],
      "metadata": {
        "id": "WDCXhFvq_TNY"
      }
    },
    {
      "cell_type": "code",
      "source": [
        "import numpy as mas\n",
        "num=int(input(\"Введите количество строк и столбцов: \"))\n",
        "mat1=[]\n",
        "mat2=[]\n",
        "a=0\n",
        "for i in range(num):\n",
        "  for f in range(num):\n",
        "    a+=1\n",
        "    mat2.append(a)\n",
        "  mat1.append(mat2)\n",
        "  mat2 = []\n",
        "print(mat1)\n",
        "if len(mat1)==1:\n",
        "  print(\"Определитель матрицы равен\", mat1[0][0])\n",
        "if len(mat1)==2:\n",
        "  print(\"Определитель матрицы равен\", mat1[0][0] * mat1[1][1] - mat1[0][1] * mat1[1][0])\n",
        "if len(mat1)>=3:\n",
        "  n_array = mas.array(mat1)\n",
        "  print(\"Определитель матрицы равен\", mas.linalg.det(n_array))"
      ],
      "metadata": {
        "colab": {
          "base_uri": "https://localhost:8080/"
        },
        "id": "UCfNDRvq_Ujg",
        "outputId": "5049a7f7-2101-47bd-c99f-f3ffe7538ef8"
      },
      "execution_count": null,
      "outputs": [
        {
          "output_type": "stream",
          "name": "stdout",
          "text": [
            "Введите количество строк и столбцов: 4\n",
            "[[1, 2, 3, 4], [5, 6, 7, 8], [9, 10, 11, 12], [13, 14, 15, 16]]\n",
            "Определитель матрицы равен 0.0\n"
          ]
        }
      ]
    },
    {
      "cell_type": "markdown",
      "source": [
        "Задание 2"
      ],
      "metadata": {
        "id": "afnf6yP7_dm4"
      }
    },
    {
      "cell_type": "code",
      "source": [
        "table=[['ФИО','Балл по программированию','Балл по ОБЖ','Балл по алгебре'],['Петров', '78', '93', '61'],['Иванов', '56', '67', '73'],['Сидоров', '81', '75', '70']]\n",
        "print(\"['ОБЖ']\")\n",
        "subjects=table[0][1:]\n",
        "scores=table[0:][1:]\n",
        "sub1=table[0:][1]\n",
        "sub2=table[0:][2]\n",
        "sub3=table[0:][3]\n",
        "print(sub1)"
      ],
      "metadata": {
        "colab": {
          "base_uri": "https://localhost:8080/"
        },
        "id": "QO6nuwSh_fD8",
        "outputId": "4451f952-62b1-4c13-f2f9-b45c81505cb2"
      },
      "execution_count": null,
      "outputs": [
        {
          "output_type": "stream",
          "name": "stdout",
          "text": [
            "['ОБЖ']\n",
            "['Петров', '78', '93', '61']\n"
          ]
        }
      ]
    },
    {
      "cell_type": "markdown",
      "source": [
        "**Практика** **9**"
      ],
      "metadata": {
        "id": "jCGOpC4q_q29"
      }
    },
    {
      "cell_type": "markdown",
      "source": [
        "Задание 1"
      ],
      "metadata": {
        "id": "YPJ3-9dZ_txS"
      }
    },
    {
      "cell_type": "code",
      "source": [
        "def main():\n",
        "    counts={}\n",
        "    while True:\n",
        "        num=input('Введите число:')\n",
        "        if num.upper()=='0':\n",
        "           break\n",
        "        try:\n",
        "            number=float(num)\n",
        "            if number in counts:\n",
        "              counts[number]+=1\n",
        "            else:\n",
        "              counts[number] = 1\n",
        "        except ValueError:\n",
        "          print('Введите правильное число')\n",
        "    unique_values=list(counts.keys())\n",
        "    print('Словарь и колво входов:',counts)\n",
        "    print('Список уникальных значений:',unique_values)\n",
        "if __name__ == '__main__':\n",
        "   main()\n"
      ],
      "metadata": {
        "colab": {
          "base_uri": "https://localhost:8080/"
        },
        "id": "fTkNYHpJ_xLO",
        "outputId": "35ab0dec-3703-4d7d-eed9-cbaa1905d0a9"
      },
      "execution_count": null,
      "outputs": [
        {
          "output_type": "stream",
          "name": "stdout",
          "text": [
            "Введите число:421\n",
            "Введите число:321\n",
            "Введите число:531\n",
            "Введите число:0\n",
            "Словарь и колво входов: {421.0: 1, 321.0: 1, 531.0: 1}\n",
            "Список уникальных значений: [421.0, 321.0, 531.0]\n"
          ]
        }
      ]
    },
    {
      "cell_type": "markdown",
      "source": [
        "Задание 2"
      ],
      "metadata": {
        "id": "Fu2bn0PA_2oU"
      }
    },
    {
      "cell_type": "code",
      "source": [
        "def main():\n",
        "    phone_book={}\n",
        "\n",
        "    while True:\n",
        "        command=input(\"Введите команду (add/who/exit): \")\n",
        "\n",
        "        if command=='add':\n",
        "            add_contact(phone_book)\n",
        "        elif command=='who':\n",
        "            find_contact(phone_book)\n",
        "        elif command=='exit':\n",
        "            print(\"Завершение работы.\")\n",
        "            break\n",
        "        else:\n",
        "            print(\"Неизвестная команда. Попробуйте снова.\")\n",
        "\n",
        "def add_contact(phone_book):\n",
        "    name=input(\"Введите имя: \")\n",
        "    number=input(\"Введите номер телефона: \")\n",
        "\n",
        "    phone_book[name]=number\n",
        "    print(f\"Контакт '{name}' добавлен с номером '{number}'.\")\n",
        "\n",
        "def find_contact(phone_book):\n",
        "    name=input(\"Введите имя для поиска: \")\n",
        "\n",
        "    if name in phone_book:\n",
        "        print(f\"Номер телефона для '{name}': {phone_book[name]}.\")\n",
        "    else:\n",
        "        print(f\"Контакт с именем '{name}' не найден.\")\n",
        "\n",
        "if __name__==\"__main__\":\n",
        "    main()"
      ],
      "metadata": {
        "colab": {
          "base_uri": "https://localhost:8080/"
        },
        "id": "Uw83yhJF_3fh",
        "outputId": "9ea49ccd-994c-422b-ac2b-35b87d9d694f"
      },
      "execution_count": null,
      "outputs": [
        {
          "output_type": "stream",
          "name": "stdout",
          "text": [
            "Введите команду (add/who/exit): add\n",
            "Введите имя: Nikita\n",
            "Введите номер телефона: 89999999999\n",
            "Контакт 'Nikita' добавлен с номером '89999999999'.\n",
            "Введите команду (add/who/exit): add\n",
            "Введите имя: Maksim\n",
            "Введите номер телефона: 87777777777\n",
            "Контакт 'Maksim' добавлен с номером '87777777777'.\n",
            "Введите команду (add/who/exit): who\n",
            "Введите имя для поиска: Nikita\n",
            "Номер телефона для 'Nikita': 89999999999.\n",
            "Введите команду (add/who/exit): exit\n",
            "Завершение работы.\n"
          ]
        }
      ]
    },
    {
      "cell_type": "markdown",
      "source": [
        "**Практика** **10**"
      ],
      "metadata": {
        "id": "lD-LXKxiALes"
      }
    },
    {
      "cell_type": "markdown",
      "source": [
        "Задание 1"
      ],
      "metadata": {
        "id": "MOfdAZKcAOzM"
      }
    },
    {
      "cell_type": "code",
      "source": [
        "def main():\n",
        "  sum=0\n",
        "  while True:\n",
        "    number=int(input(\"Введите число: \"))\n",
        "    if number==0:\n",
        "      break\n",
        "    sum+=number\n",
        "  return sum\n",
        "result=main()\n",
        "print(\"Сумма введеных чисел:\",result)"
      ],
      "metadata": {
        "colab": {
          "base_uri": "https://localhost:8080/"
        },
        "id": "8GCYfMGkAPxd",
        "outputId": "316d8d8a-faf9-4350-edc8-35b10369a1da"
      },
      "execution_count": null,
      "outputs": [
        {
          "output_type": "stream",
          "name": "stdout",
          "text": [
            "Введите число: 5\n",
            "Введите число: 6\n",
            "Введите число: 7\n",
            "Введите число: 2\n",
            "Введите число: 2\n",
            "Введите число: 5\n",
            "Введите число: 1\n",
            "Введите число: 12314\n",
            "Введите число: 0\n",
            "Сумма введеных чисел: 12342\n"
          ]
        }
      ]
    },
    {
      "cell_type": "markdown",
      "source": [
        "Задание 2"
      ],
      "metadata": {
        "id": "DKAsaLjVAWTm"
      }
    },
    {
      "cell_type": "code",
      "source": [
        "def main():\n",
        "  kniga={}\n",
        "  while True:\n",
        "    vhod=input(\"Введите имя и номер через пробел \")\n",
        "    name,phone=vhod.split()\n",
        "    if name=='0' and phone =='0':\n",
        "      break\n",
        "    kniga[name]=phone\n",
        "  return kniga\n",
        "def sortinum(kniga):\n",
        "  return sorted(kniga.values())\n",
        "def sortinam(kniga):\n",
        "  return sorted(kniga.keys())\n",
        "kniga=main()\n",
        "sorted_numbers=sortinum(kniga)\n",
        "sorted_names=sortinam(kniga)\n",
        "print(\"Номера телефонов по возрастанию\",sorted_numbers)\n",
        "print(\"Имена по возрастанию\",sorted_names)"
      ],
      "metadata": {
        "colab": {
          "base_uri": "https://localhost:8080/"
        },
        "id": "pHg3ix8CAX97",
        "outputId": "12a68679-fdbf-458c-d00b-1211609c02c9"
      },
      "execution_count": null,
      "outputs": [
        {
          "output_type": "stream",
          "name": "stdout",
          "text": [
            "Введите имя и номер через пробел nikita 999\n",
            "Введите имя и номер через пробел maksim 888\n",
            "Введите имя и номер через пробел add 777\n",
            "Введите имя и номер через пробел 0 0\n",
            "Номера телефонов по возрастанию ['777', '888', '999']\n",
            "Имена по возрастанию ['add', 'maksim', 'nikita']\n"
          ]
        }
      ]
    },
    {
      "cell_type": "markdown",
      "source": [
        "**Практика** **11**"
      ],
      "metadata": {
        "id": "OYjenEFoBJti"
      }
    },
    {
      "cell_type": "markdown",
      "source": [
        "Задание 1"
      ],
      "metadata": {
        "id": "MBGJ5yoLB_Q9"
      }
    },
    {
      "cell_type": "code",
      "source": [
        "import random\n",
        "with open('input.txt', 'r', encoding='utf-8') as infile:\n",
        "    lines = infile.readlines()\n",
        "with open('result.txt', 'w', encoding='utf-8') as outfile:\n",
        "    for line in lines:\n",
        "        random_number = random.randint(1, 500)\n",
        "        outfile.write(f\"{line.strip()} {random_number}\\n\")"
      ],
      "metadata": {
        "id": "O28oAbZpB_6D"
      },
      "execution_count": 36,
      "outputs": []
    },
    {
      "cell_type": "code",
      "source": [],
      "metadata": {
        "id": "Vi_OX2tKCK6J"
      },
      "execution_count": null,
      "outputs": []
    }
  ]
}