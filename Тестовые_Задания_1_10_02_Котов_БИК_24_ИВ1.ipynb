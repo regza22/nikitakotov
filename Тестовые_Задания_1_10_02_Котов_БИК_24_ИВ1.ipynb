{
  "nbformat": 4,
  "nbformat_minor": 0,
  "metadata": {
    "colab": {
      "provenance": [],
      "authorship_tag": "ABX9TyNVVoKZyYq+PmFivO1wgIeE",
      "include_colab_link": true
    },
    "kernelspec": {
      "name": "python3",
      "display_name": "Python 3"
    },
    "language_info": {
      "name": "python"
    }
  },
  "cells": [
    {
      "cell_type": "markdown",
      "metadata": {
        "id": "view-in-github",
        "colab_type": "text"
      },
      "source": [
        "<a href=\"https://colab.research.google.com/github/regza22/nikitakotov/blob/main/%D0%A2%D0%B5%D1%81%D1%82%D0%BE%D0%B2%D1%8B%D0%B5_%D0%97%D0%B0%D0%B4%D0%B0%D0%BD%D0%B8%D1%8F_1_10_02_%D0%9A%D0%BE%D1%82%D0%BE%D0%B2_%D0%91%D0%98%D0%9A_24_%D0%98%D0%921.ipynb\" target=\"_parent\"><img src=\"https://colab.research.google.com/assets/colab-badge.svg\" alt=\"Open In Colab\"/></a>"
      ]
    },
    {
      "cell_type": "markdown",
      "source": [
        "Задание 1"
      ],
      "metadata": {
        "id": "19cDqWQw-NhW"
      }
    },
    {
      "cell_type": "code",
      "execution_count": null,
      "metadata": {
        "colab": {
          "base_uri": "https://localhost:8080/"
        },
        "id": "HI1qRtMB8Mxn",
        "outputId": "a458677a-47f6-4b63-db1e-73aee5042d49"
      },
      "outputs": [
        {
          "output_type": "stream",
          "name": "stdout",
          "text": [
            "Тестовая строка\n"
          ]
        }
      ],
      "source": [
        "number = 23\n",
        "point_number = 43.534\n",
        "string = \"Тестовая строка\"\n",
        "switch = True\n",
        "print(string)"
      ]
    },
    {
      "cell_type": "markdown",
      "source": [
        "Задание 2"
      ],
      "metadata": {
        "id": "p-vRcp6w-R32"
      }
    },
    {
      "cell_type": "code",
      "source": [
        "age =int(input(\"Введите возраст \"))\n",
        "name =str( input(\"Введите имя \"))\n",
        "print(age, name)"
      ],
      "metadata": {
        "colab": {
          "base_uri": "https://localhost:8080/"
        },
        "id": "v0O5-MP4-S0G",
        "outputId": "e6bc0cab-f191-4dc0-aa45-72f5f29540b5"
      },
      "execution_count": null,
      "outputs": [
        {
          "output_type": "stream",
          "name": "stdout",
          "text": [
            "Введите возраст 23\n",
            "Введите имя f\n",
            "23 f\n"
          ]
        }
      ]
    },
    {
      "cell_type": "markdown",
      "source": [
        "Задание 3"
      ],
      "metadata": {
        "id": "gAY8JUBw_WVH"
      }
    },
    {
      "cell_type": "code",
      "source": [
        "a = int(342)\n",
        "b = float(56.2)\n",
        "c = '43'\n",
        "number = (a + b + int(c))\n",
        "print(number)"
      ],
      "metadata": {
        "colab": {
          "base_uri": "https://localhost:8080/"
        },
        "id": "mICv-wlR_XsY",
        "outputId": "6b342f2a-4dc5-407a-bd27-35bbca5fb48e"
      },
      "execution_count": null,
      "outputs": [
        {
          "output_type": "stream",
          "name": "stdout",
          "text": [
            "441.2\n"
          ]
        }
      ]
    },
    {
      "cell_type": "markdown",
      "source": [
        "Задание 4"
      ],
      "metadata": {
        "id": "ZicntDAtC2n7"
      }
    },
    {
      "cell_type": "code",
      "source": [
        "a = 3\n",
        "b = 8\n",
        "c = (a + 4*b)*(a - 3*b) + a * a\n",
        "print(c)"
      ],
      "metadata": {
        "colab": {
          "base_uri": "https://localhost:8080/"
        },
        "id": "ryWDQQsSC31q",
        "outputId": "934717a5-69a6-4b79-9265-5f75a968d7e9"
      },
      "execution_count": null,
      "outputs": [
        {
          "output_type": "stream",
          "name": "stdout",
          "text": [
            "-726\n"
          ]
        }
      ]
    },
    {
      "cell_type": "markdown",
      "source": [
        "Задание 5"
      ],
      "metadata": {
        "id": "CLb7ZkfTDcT1"
      }
    },
    {
      "cell_type": "code",
      "source": [
        "a = int(input('Введите длинну прямоугольника '))\n",
        "b = int(input('Введите ширину прямоугольника '))\n",
        "S = (a*b)\n",
        "P = (a*2+b*2)\n",
        "print(\"Площадь равна:\",S,\"Периметр равен:\",P)"
      ],
      "metadata": {
        "colab": {
          "base_uri": "https://localhost:8080/"
        },
        "id": "03Dj292jDdQ1",
        "outputId": "88bf3f33-cea6-4011-c66d-337da2ecd10f"
      },
      "execution_count": null,
      "outputs": [
        {
          "output_type": "stream",
          "name": "stdout",
          "text": [
            "Введите длинну прямоугольника 6\n",
            "Введите ширину прямоугольника 3\n",
            "Площадь равна: 18 Периметр равен: 18\n"
          ]
        }
      ]
    },
    {
      "cell_type": "markdown",
      "source": [
        "Задание 6"
      ],
      "metadata": {
        "id": "O1_uF6Z8FOmM"
      }
    },
    {
      "cell_type": "code",
      "source": [
        "w = [\"*     *     *\",\n",
        "     \" *   * *   * \",\n",
        "     \"  * *   * *  \",]\n",
        "for line in w:\n",
        "    print(line)"
      ],
      "metadata": {
        "colab": {
          "base_uri": "https://localhost:8080/"
        },
        "id": "K_QRDlnYFQU8",
        "outputId": "43faae40-016d-4375-b82a-32b8eb9ee8c1"
      },
      "execution_count": null,
      "outputs": [
        {
          "output_type": "stream",
          "name": "stdout",
          "text": [
            "*     *     *\n",
            " *   * *   * \n",
            "  * *   * *  \n"
          ]
        }
      ]
    },
    {
      "cell_type": "markdown",
      "source": [
        "Задание 7"
      ],
      "metadata": {
        "id": "ssSGOYjfF7N7"
      }
    },
    {
      "cell_type": "code",
      "source": [
        "a = 3\n",
        "b = 75\n",
        "print(\"Арифметические операторы:\",a+b, a*b, a-b, a/b, a//b, a%b, a**b)\n",
        "print(\"Операторты сравнения:\", a==b, a!=b, a>b, a<b, a>=b, a<=b )"
      ],
      "metadata": {
        "colab": {
          "base_uri": "https://localhost:8080/"
        },
        "id": "L1_Vbh4nF85k",
        "outputId": "a25c5651-8ee1-42b6-a1fe-9c79d3a6bf67"
      },
      "execution_count": null,
      "outputs": [
        {
          "output_type": "stream",
          "name": "stdout",
          "text": [
            "Арифметические операторы: 78 225 -72 0.04 0 3 608266787713357709119683992618861307\n",
            "Операторты сравнения: False True False True False True\n"
          ]
        }
      ]
    },
    {
      "cell_type": "markdown",
      "source": [
        "Задание 8"
      ],
      "metadata": {
        "id": "lJPhhZnJHqfX"
      }
    },
    {
      "cell_type": "code",
      "source": [
        "age = 21\n",
        "name = 'Никита'\n",
        "print(f'Привет! Меня зовут {name}, мне {age}, лет')"
      ],
      "metadata": {
        "colab": {
          "base_uri": "https://localhost:8080/"
        },
        "id": "0qOZeVaoHxAP",
        "outputId": "a0e05e83-2a97-43f6-94b7-48e69b11732c"
      },
      "execution_count": 3,
      "outputs": [
        {
          "output_type": "stream",
          "name": "stdout",
          "text": [
            "Привет! Меня зовут Никита, мне 21, лет\n"
          ]
        }
      ]
    },
    {
      "cell_type": "markdown",
      "source": [
        "Задание 9"
      ],
      "metadata": {
        "id": "A9vstkt0Vr5r"
      }
    },
    {
      "cell_type": "code",
      "source": [
        "st = 'съешь еще этих мягких французских булок, да выпей чаю.'\n",
        "a = st.split()\n",
        "a1 = a[0]\n",
        "a2 = a[1]\n",
        "a3 = a[2] + ' ' + a[3]\n",
        "a4 = a[4] + ' ' + a[5] + ' ' + a[6]\n",
        "a5 = a[7] + ' ' + a[8]\n",
        "print (a1, a2, a3, a4, a5)"
      ],
      "metadata": {
        "colab": {
          "base_uri": "https://localhost:8080/"
        },
        "id": "mTd-DY3uVt89",
        "outputId": "b3f32fd0-93b3-427e-acbb-595c37c139a8"
      },
      "execution_count": 4,
      "outputs": [
        {
          "output_type": "stream",
          "name": "stdout",
          "text": [
            "съешь еще этих мягких французских булок, да выпей чаю.\n"
          ]
        }
      ]
    },
    {
      "cell_type": "markdown",
      "source": [
        "Задание 10"
      ],
      "metadata": {
        "id": "XC47FWW_WuWy"
      }
    },
    {
      "cell_type": "code",
      "source": [
        "da = 'Да!'\n",
        "net = 'Нет!'\n",
        "print((da + net) * 4)"
      ],
      "metadata": {
        "colab": {
          "base_uri": "https://localhost:8080/"
        },
        "id": "QZp4s6cUWwta",
        "outputId": "7d779e55-c10e-4298-f8de-9fd2894dab90"
      },
      "execution_count": 5,
      "outputs": [
        {
          "output_type": "stream",
          "name": "stdout",
          "text": [
            "Да!Нет!Да!Нет!Да!Нет!Да!Нет!\n"
          ]
        }
      ]
    },
    {
      "cell_type": "markdown",
      "source": [
        "Задание 11"
      ],
      "metadata": {
        "id": "aBUzzBH_W-Ov"
      }
    },
    {
      "cell_type": "code",
      "source": [
        "asd = input ('Введите 3 числа разделенных запятой: ')\n",
        "a, b, c = asd.split(',')\n",
        "\n",
        "a1 = int(a)\n",
        "b1 = int(b)\n",
        "c1 = int(c)\n",
        "print((a1+c1) // b1)"
      ],
      "metadata": {
        "colab": {
          "base_uri": "https://localhost:8080/"
        },
        "id": "T9FrMWTcW_gw",
        "outputId": "c2161837-c128-44a1-bfef-fbe18ca21036"
      },
      "execution_count": 8,
      "outputs": [
        {
          "output_type": "stream",
          "name": "stdout",
          "text": [
            "Введите 3 числа разделенных запятой: 3, 7, 4\n",
            "1\n"
          ]
        }
      ]
    },
    {
      "cell_type": "markdown",
      "source": [
        "Задание 12"
      ],
      "metadata": {
        "id": "Z8rIZ3CuXkZa"
      }
    },
    {
      "cell_type": "code",
      "source": [
        "a = input()\n",
        "print(a[0], a[1], a[2], a[3])\n",
        "print(a[-1], a[-2])\n",
        "print(a[3], a[4], a[5], a[6], a[7])\n",
        "print(a[::-1])"
      ],
      "metadata": {
        "colab": {
          "base_uri": "https://localhost:8080/"
        },
        "id": "LnX9q5SrXl6Z",
        "outputId": "48f099e8-f412-4c96-b977-0f075ad2d457"
      },
      "execution_count": 11,
      "outputs": [
        {
          "output_type": "stream",
          "name": "stdout",
          "text": [
            "Мотокросс\n",
            "М о т о\n",
            "с с\n",
            "о к р о с\n",
            "ссоркотоМ\n"
          ]
        }
      ]
    }
  ]
}