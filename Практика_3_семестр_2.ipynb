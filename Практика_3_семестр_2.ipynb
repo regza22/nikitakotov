{
  "nbformat": 4,
  "nbformat_minor": 0,
  "metadata": {
    "colab": {
      "provenance": [],
      "authorship_tag": "ABX9TyP4AZ0EDbt8NF3WKeDcodCR",
      "include_colab_link": true
    },
    "kernelspec": {
      "name": "python3",
      "display_name": "Python 3"
    },
    "language_info": {
      "name": "python"
    }
  },
  "cells": [
    {
      "cell_type": "markdown",
      "metadata": {
        "id": "view-in-github",
        "colab_type": "text"
      },
      "source": [
        "<a href=\"https://colab.research.google.com/github/regza22/nikitakotov/blob/main/%D0%9F%D1%80%D0%B0%D0%BA%D1%82%D0%B8%D0%BA%D0%B0_3_%D1%81%D0%B5%D0%BC%D0%B5%D1%81%D1%82%D1%80_2.ipynb\" target=\"_parent\"><img src=\"https://colab.research.google.com/assets/colab-badge.svg\" alt=\"Open In Colab\"/></a>"
      ]
    },
    {
      "cell_type": "markdown",
      "source": [
        "Задание 1"
      ],
      "metadata": {
        "id": "OUPfd4vns222"
      }
    },
    {
      "cell_type": "code",
      "source": [
        "from fastapi import FastAPI, Request, Form, HTTPException\n",
        "from fastapi.templating import Jinja2Templates\n",
        "from fastapi.responses import HTMLResponse, RedirectResponse\n",
        "from fastapi.staticfiles import StaticFiles\n",
        "from pydantic import BaseModel\n",
        "from typing import List, Optional\n",
        "\n",
        "app = FastAPI()\n",
        "\n",
        "templates = Jinja2Templates(directory='templates')\n",
        "app.mount('/static', StaticFiles(directory='static'), name='static')\n",
        "\n",
        "class Note(BaseModel):\n",
        "    id: int\n",
        "    title: str\n",
        "    content: str\n",
        "\n",
        "notes = []\n",
        "note_counter = 0  # Счетчик для ID заметок\n",
        "\n",
        "@app.get('/', response_class=HTMLResponse)\n",
        "def get_index(request: Request):\n",
        "    return templates.TemplateResponse(\n",
        "        'index.html',\n",
        "        {'request': request, 'notes': notes}\n",
        "    )\n",
        "\n",
        "@app.get('/notes', response_model=List[Note])\n",
        "def get_all_notes():\n",
        "    return notes\n",
        "\n",
        "@app.get('/notes/{note_id}', response_model=Note)\n",
        "def get_note_by_id(note_id: int):\n",
        "    for note in notes:\n",
        "        if note.id == note_id:\n",
        "            return note\n",
        "    raise HTTPException(status_code=404, detail=\"Note not found\")\n",
        "\n",
        "@app.get('/notes/stats')\n",
        "def get_notes_stats():\n",
        "    return {\"count\": len(notes)}\n",
        "\n",
        "@app.post('/notes', response_model=Note, status_code=201)\n",
        "def create_note(note_title: str = Form(...), note_content: str = Form(...)):\n",
        "    global note_counter\n",
        "    note_counter += 1\n",
        "    new_note = Note(id=note_counter, title=note_title, content=note_content)\n",
        "    notes.append(new_note)\n",
        "    return RedirectResponse(url=\"/\", status_code=303)\n",
        "\n",
        "@app.put('/notes/{note_id}', response_model=Note)\n",
        "def update_note(note_id: int, updated_note: Note):\n",
        "    for index, note in enumerate(notes):\n",
        "        if note.id == note_id:\n",
        "            notes[index] = updated_note\n",
        "            return updated_note\n",
        "    raise HTTPException(status_code=404, detail=\"Note not found\")\n",
        "\n",
        "@app.delete('/notes/{note_id}', status_code=204)\n",
        "def delete_note(note_id: int):\n",
        "    for index, note in enumerate(notes):\n",
        "        if note.id == note_id:\n",
        "            notes.pop(index)\n",
        "            return\n",
        "    raise HTTPException(status_code=404, detail=\"Note not found\")\n",
        "\n",
        "@app.delete('/notes', status_code=204)\n",
        "def delete_all_notes():\n",
        "    notes.clear()"
      ],
      "metadata": {
        "id": "Tc2HPfY1s310"
      },
      "execution_count": null,
      "outputs": []
    }
  ]
}