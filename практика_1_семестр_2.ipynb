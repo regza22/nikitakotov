{
  "nbformat": 4,
  "nbformat_minor": 0,
  "metadata": {
    "colab": {
      "provenance": [],
      "authorship_tag": "ABX9TyM/LoePc1TyvVnGptwRb9Tc",
      "include_colab_link": true
    },
    "kernelspec": {
      "name": "python3",
      "display_name": "Python 3"
    },
    "language_info": {
      "name": "python"
    }
  },
  "cells": [
    {
      "cell_type": "markdown",
      "metadata": {
        "id": "view-in-github",
        "colab_type": "text"
      },
      "source": [
        "<a href=\"https://colab.research.google.com/github/regza22/nikitakotov/blob/main/%D0%BF%D1%80%D0%B0%D0%BA%D1%82%D0%B8%D0%BA%D0%B0_1_%D1%81%D0%B5%D0%BC%D0%BC%D0%B5%D1%81%D1%82%D1%80_2.ipynb\" target=\"_parent\"><img src=\"https://colab.research.google.com/assets/colab-badge.svg\" alt=\"Open In Colab\"/></a>"
      ]
    },
    {
      "cell_type": "code",
      "execution_count": null,
      "metadata": {
        "id": "9rFo194OprS9"
      },
      "outputs": [],
      "source": [
        "a = 1 #int\n",
        "b = '123' #str\n",
        "c = 1.5 #float\n",
        "d = False #bool\n"
      ]
    },
    {
      "cell_type": "markdown",
      "source": [
        "Задание 2"
      ],
      "metadata": {
        "id": "ZWwglfx2qRR9"
      }
    },
    {
      "cell_type": "code",
      "source": [
        "name = 'Никита'\n",
        "s = 19\n",
        "print(name, s)"
      ],
      "metadata": {
        "colab": {
          "base_uri": "https://localhost:8080/"
        },
        "id": "eHNpFFVGqS-6",
        "outputId": "6baf6e1f-d453-4d6d-fa39-8041fb2822f1"
      },
      "execution_count": null,
      "outputs": [
        {
          "output_type": "stream",
          "name": "stdout",
          "text": [
            "Никита 19\n"
          ]
        }
      ]
    },
    {
      "cell_type": "markdown",
      "source": [
        "Задание 3"
      ],
      "metadata": {
        "id": "I-l85aAoqXzy"
      }
    },
    {
      "cell_type": "code",
      "source": [
        "a1 = 120\n",
        "a2 = 73.7\n",
        "a3 = '43'\n",
        "print(a1 + a2 + int(a3))"
      ],
      "metadata": {
        "colab": {
          "base_uri": "https://localhost:8080/"
        },
        "id": "k-I98UYUqY0a",
        "outputId": "46b02432-12b4-435f-959d-9339899eeb07"
      },
      "execution_count": null,
      "outputs": [
        {
          "output_type": "stream",
          "name": "stdout",
          "text": [
            "236.7\n"
          ]
        }
      ]
    },
    {
      "cell_type": "markdown",
      "source": [
        "Задание 4"
      ],
      "metadata": {
        "id": "mnpedcT0qgVk"
      }
    },
    {
      "cell_type": "code",
      "source": [
        "a = 1\n",
        "b = 4\n",
        "print((a + b * 7) * (a  - 1 * b) + a ** 2)"
      ],
      "metadata": {
        "colab": {
          "base_uri": "https://localhost:8080/"
        },
        "id": "SDj8R8-KqhPC",
        "outputId": "6339c778-647b-47f1-e9fc-d3b6004bf120"
      },
      "execution_count": null,
      "outputs": [
        {
          "output_type": "stream",
          "name": "stdout",
          "text": [
            "-86\n"
          ]
        }
      ]
    },
    {
      "cell_type": "markdown",
      "source": [
        "Задание 5"
      ],
      "metadata": {
        "id": "yvjZRXJIqoFz"
      }
    },
    {
      "cell_type": "code",
      "source": [
        "st1 = int(input('Длина первой стороны: '))\n",
        "st2 = int(input('Длина второй стороны: '))\n",
        "st3 = int(input('Длина третьей стороны: '))\n",
        "st4 = int(input('Длина четвертой стороны: '))\n",
        "perimetr = st1 + st2 + st3 + st4\n",
        "ploshad = st1 * st2\n",
        "print(perimetr, ploshad)"
      ],
      "metadata": {
        "colab": {
          "base_uri": "https://localhost:8080/"
        },
        "id": "itGaW3YxqpTr",
        "outputId": "b8120335-bcc9-4701-8134-9cbd81241a9c"
      },
      "execution_count": null,
      "outputs": [
        {
          "output_type": "stream",
          "name": "stdout",
          "text": [
            "Длина первой стороны: 2\n",
            "Длина второй стороны: 3\n",
            "Длина третьей стороны: 4\n",
            "Длина четвертой стороны: 5\n",
            "14 6\n"
          ]
        }
      ]
    },
    {
      "cell_type": "markdown",
      "source": [
        "Задание 6"
      ],
      "metadata": {
        "id": "3KK15kpHqpec"
      }
    },
    {
      "cell_type": "code",
      "source": [
        "print('*   *   *')\n",
        "print(' * * * *')\n",
        "print('  *   *')"
      ],
      "metadata": {
        "colab": {
          "base_uri": "https://localhost:8080/"
        },
        "id": "sy4WQDvaqqPs",
        "outputId": "62ae2d5d-baf8-4c5f-cc4b-9102cf77d272"
      },
      "execution_count": null,
      "outputs": [
        {
          "output_type": "stream",
          "name": "stdout",
          "text": [
            "*   *   *\n",
            " * * * *\n",
            "  *   *\n"
          ]
        }
      ]
    },
    {
      "cell_type": "markdown",
      "source": [
        "Задание 7"
      ],
      "metadata": {
        "id": "geL4CXB8qqXG"
      }
    },
    {
      "cell_type": "code",
      "source": [
        "a = 12\n",
        "b = 24\n",
        "print(a + b, a - b, a * b, a % b, a / b, a // b)\n",
        "print(1 if a > b else 2)\n",
        "print(3 if a == b else 4)\n",
        "print(5 if a < b else 6)"
      ],
      "metadata": {
        "id": "WMe99ahFq-1_"
      },
      "execution_count": null,
      "outputs": []
    },
    {
      "cell_type": "markdown",
      "source": [
        "Задание 8"
      ],
      "metadata": {
        "id": "KYRiTsLNrBQ4"
      }
    },
    {
      "cell_type": "code",
      "source": [
        "name = 'Никита'\n",
        "a = 21\n",
        "print(f'Меня зовут {name}, мне {a} лет')"
      ],
      "metadata": {
        "id": "OajgJNrorC2A"
      },
      "execution_count": null,
      "outputs": []
    },
    {
      "cell_type": "markdown",
      "source": [
        "Задание 9"
      ],
      "metadata": {
        "id": "4u7FvaoCrH9m"
      }
    },
    {
      "cell_type": "code",
      "source": [
        "st = 'съешь еще этих мягких французских булок, да выпей чаю.'\n",
        "a = st.split()\n",
        "a1 = a[0]\n",
        "a2 = a[1]\n",
        "a3 = a[2] + ' ' +  a[3]\n",
        "a4 = a[4] + ' ' + a[5] + ' ' + a[6]\n",
        "a5 = a[7] + ' ' + a[8]\n",
        "print(a1, a2, a3, a4, a5)"
      ],
      "metadata": {
        "colab": {
          "base_uri": "https://localhost:8080/"
        },
        "id": "-CC7r3GirJTy",
        "outputId": "f57c6262-4f64-4785-b4dd-39ac8ede151f"
      },
      "execution_count": null,
      "outputs": [
        {
          "output_type": "stream",
          "name": "stdout",
          "text": [
            "съешь еще этих мягких французских булок, да выпей чаю.\n"
          ]
        }
      ]
    },
    {
      "cell_type": "markdown",
      "source": [
        "Задание 10"
      ],
      "metadata": {
        "id": "316CfAiXrMoT"
      }
    },
    {
      "cell_type": "code",
      "source": [
        "da = 'Да!'\n",
        "net = 'Нет!'\n",
        "print((da + net) * 4)"
      ],
      "metadata": {
        "colab": {
          "base_uri": "https://localhost:8080/"
        },
        "id": "1fQnMTdYrNpz",
        "outputId": "ebf7f9da-1fa9-4f05-decc-0c1466a805f1"
      },
      "execution_count": null,
      "outputs": [
        {
          "output_type": "stream",
          "name": "stdout",
          "text": [
            "Да!Нет!Да!Нет!Да!Нет!Да!Нет!\n"
          ]
        }
      ]
    },
    {
      "cell_type": "markdown",
      "source": [
        "Задание 11"
      ],
      "metadata": {
        "id": "pEZkHzAOrQba"
      }
    },
    {
      "cell_type": "code",
      "source": [
        "asd = input('Введите 3 числа разделенных запятой: ')\n",
        "a,b,c = asd.split(',')\n",
        "\n",
        "a1 = int(a)\n",
        "b1 = int(b)\n",
        "c1 = int(c)\n",
        "print((a1 + c1) // b1)\n"
      ],
      "metadata": {
        "colab": {
          "base_uri": "https://localhost:8080/"
        },
        "id": "i_9lh7txrRTz",
        "outputId": "cb092cb8-7f09-45a8-b6be-555cf0e70d8e"
      },
      "execution_count": null,
      "outputs": [
        {
          "output_type": "stream",
          "name": "stdout",
          "text": [
            "Введите 3 числа разделенных запятой: 3, 2, 1\n",
            "2\n"
          ]
        }
      ]
    },
    {
      "cell_type": "markdown",
      "source": [
        "Задание 13"
      ],
      "metadata": {
        "id": "o9sILbxCrTGX"
      }
    },
    {
      "cell_type": "code",
      "source": [
        "a = input()\n",
        "print(a[0], a[1], a[2], a[3])\n",
        "print(a[-1], a[-2])\n",
        "print(a[3], a[4], a[5],a[6],a[7])\n",
        "print(a[::-1])"
      ],
      "metadata": {
        "colab": {
          "base_uri": "https://localhost:8080/"
        },
        "id": "9k07Gv_HrUIQ",
        "outputId": "4ee4c0d5-b700-4f13-fc61-9c30129fa08e"
      },
      "execution_count": 1,
      "outputs": [
        {
          "output_type": "stream",
          "name": "stdout",
          "text": [
            "возможность\n",
            "в о з м\n",
            "ь т\n",
            "м о ж н о\n",
            "ьтсонжомзов\n"
          ]
        }
      ]
    },
    {
      "cell_type": "code",
      "source": [],
      "metadata": {
        "id": "I4EPUOP1ucl3"
      },
      "execution_count": null,
      "outputs": []
    }
  ]
}
