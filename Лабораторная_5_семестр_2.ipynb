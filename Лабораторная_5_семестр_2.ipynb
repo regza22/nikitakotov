{
  "nbformat": 4,
  "nbformat_minor": 0,
  "metadata": {
    "colab": {
      "provenance": [],
      "authorship_tag": "ABX9TyN8dJMY5tdK5gngl+bGXptT",
      "include_colab_link": true
    },
    "kernelspec": {
      "name": "python3",
      "display_name": "Python 3"
    },
    "language_info": {
      "name": "python"
    }
  },
  "cells": [
    {
      "cell_type": "markdown",
      "metadata": {
        "id": "view-in-github",
        "colab_type": "text"
      },
      "source": [
        "<a href=\"https://colab.research.google.com/github/regza22/nikitakotov/blob/main/%D0%9B%D0%B0%D0%B1%D0%BE%D1%80%D0%B0%D1%82%D0%BE%D1%80%D0%BD%D0%B0%D1%8F_5_%D1%81%D0%B5%D0%BC%D0%B5%D1%81%D1%82%D1%80_2.ipynb\" target=\"_parent\"><img src=\"https://colab.research.google.com/assets/colab-badge.svg\" alt=\"Open In Colab\"/></a>"
      ]
    },
    {
      "cell_type": "markdown",
      "source": [
        "Задание 1"
      ],
      "metadata": {
        "id": "Ey7CHeJWwv73"
      }
    },
    {
      "cell_type": "code",
      "source": [
        "numbers = [1, 2, 3, 4, 5, 6, 7, 8, 9, 10]\n",
        "\n",
        "for i in range(len(numbers)):\n",
        "    if numbers[i] == 3:\n",
        "        numbers[i] = 30\n",
        "print(numbers)"
      ],
      "metadata": {
        "id": "cpNYcy84wwHM"
      },
      "execution_count": null,
      "outputs": []
    },
    {
      "cell_type": "markdown",
      "source": [
        "Задание 2"
      ],
      "metadata": {
        "id": "-nBILjxYwwMS"
      }
    },
    {
      "cell_type": "code",
      "source": [
        "numbers = [1, 2, 3, 4, 5]\n",
        "squares = [x ** 2 for x in numbers]\n",
        "print(squares)"
      ],
      "metadata": {
        "id": "45q35i4owwQ4"
      },
      "execution_count": null,
      "outputs": []
    },
    {
      "cell_type": "markdown",
      "source": [
        "Задание 3"
      ],
      "metadata": {
        "id": "ygg0gDEZwwWa"
      }
    },
    {
      "cell_type": "code",
      "source": [
        "numbers = [10, 20, 30, 40, 50, 60]\n",
        "max_num = max(numbers)\n",
        "length = len(numbers)\n",
        "result = max_num / length\n",
        "print(result)"
      ],
      "metadata": {
        "id": "vJdnkyi_wwau"
      },
      "execution_count": null,
      "outputs": []
    },
    {
      "cell_type": "markdown",
      "source": [
        "Задание 4"
      ],
      "metadata": {
        "id": "tpOujS7twwfp"
      }
    },
    {
      "cell_type": "code",
      "source": [
        "my_tuple = (5, 3, 8, 1, 2)\n",
        "sorted_tuple = tuple(sorted(my_tuple)) if all(isinstance(x, (int, float)) for x in my_tuple) else my_tuple\n",
        "print(sorted_tuple)"
      ],
      "metadata": {
        "id": "mikmwm69wwkR"
      },
      "execution_count": null,
      "outputs": []
    },
    {
      "cell_type": "markdown",
      "source": [
        "Задание 5"
      ],
      "metadata": {
        "id": "dfiCqGT3wwpO"
      }
    },
    {
      "cell_type": "code",
      "source": [
        "products = {\"яблоки\": 50, \"груши\": 70, \"бананы\": 30, \"виноград\": 100}\n",
        "min_price_product = min(products, key=products.get)\n",
        "max_price_product = max(products, key=products.get)\n",
        "print(f\"Товар с минимальной ценой: {min_price_product}, цена: {products[min_price_product]} руб.\")\n",
        "print(f\"Товар с максимальной ценой: {max_price_product}, цена: {products[max_price_product]} руб.\")"
      ],
      "metadata": {
        "id": "SVoxGoelwwt3"
      },
      "execution_count": null,
      "outputs": []
    },
    {
      "cell_type": "markdown",
      "source": [
        "Задание 6"
      ],
      "metadata": {
        "id": "37GcRB7ywwzU"
      }
    },
    {
      "cell_type": "code",
      "source": [
        "items = [\"apple\", \"banana\", \"cherry\"]\n",
        "dictionary = {item: item for item in items}\n",
        "print(dictionary)"
      ],
      "metadata": {
        "id": "XcmeJZntww3w"
      },
      "execution_count": null,
      "outputs": []
    },
    {
      "cell_type": "markdown",
      "source": [
        "Задание 7"
      ],
      "metadata": {
        "id": "J78OFRUaw29j"
      }
    },
    {
      "cell_type": "code",
      "source": [
        "translations = {'hello': 'привет', 'world': 'мир'}\n",
        "word = input(\"Введите русское слово: \")\n",
        "found_word = None\n",
        "for eng, rus in translations.items():\n",
        "    if word.lower() == rus.lower():\n",
        "        found_word = eng\n",
        "        break\n",
        "if found_word:\n",
        "    print(f\"Английский перевод слова '{word}' - '{found_word}'.\")\n",
        "else:\n",
        "    print(\"Слово не найдено в словаре.\")"
      ],
      "metadata": {
        "id": "9t2EmWiPw3Aj"
      },
      "execution_count": null,
      "outputs": []
    },
    {
      "cell_type": "markdown",
      "source": [
        "Задание 8"
      ],
      "metadata": {
        "id": "Z9o9Wnrnw3Dx"
      }
    },
    {
      "cell_type": "code",
      "source": [
        "import random\n",
        "\n",
        "options = ['камень', 'ножницы', 'бумага', 'ящерица', 'спок']\n",
        "rules = {\n",
        "    ('камень', 'ножницы'): 'Камень разбивает ножницы',\n",
        "    ('камень', 'ящерица'): 'Камень давит ящерицу',\n",
        "    ('бумага', 'камень'): 'Бумага покрывает камень',\n",
        "    ('бумага', 'спок'): 'Бумага подставляет Спока',\n",
        "    ('ножницы', 'бумага'): 'Ножницы режут бумагу',\n",
        "    ('ножницы', 'ящерица'): 'Ножницы обезглавливают ящерицу',\n",
        "    ('ящерица', 'бумага'): 'Ящерица съедает бумагу',\n",
        "    ('ящерица', 'спок'): 'Ящерица отравляет Спока',\n",
        "    ('спок', 'ножницы'): 'Спок ломает ножницы',\n",
        "    ('спок', 'камень'): 'Спок испаряет камень'\n",
        "}\n",
        "player_choice = input(\"Введите свой выбор (камень/ножницы/бумага/ящерица/спок): \").strip().lower()\n",
        "computer_choice = random.choice(options)\n",
        "if player_choice not in options:\n",
        "    print(\"Некорректный выбор. Попробуйте ещё раз.\")\n",
        "else:\n",
        "    if player_choice == computer_choice:\n",
        "        print(\"Ничья!\")\n",
        "    elif (player_choice, computer_choice) in rules.keys():\n",
        "        print(f\"Вы победили! {rules[(player_choice, computer_choice)]}.\")\n",
        "    else:\n",
        "        reversed_rule = (computer_choice, player_choice)\n",
        "        print(f\"Вы проиграли. {rules[reversed_rule]}.\")"
      ],
      "metadata": {
        "id": "OkD78Bcaw3HH"
      },
      "execution_count": null,
      "outputs": []
    }
  ]
}