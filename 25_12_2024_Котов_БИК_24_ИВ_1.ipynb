{
  "nbformat": 4,
  "nbformat_minor": 0,
  "metadata": {
    "colab": {
      "provenance": [],
      "authorship_tag": "ABX9TyOAv8eXHa3ZTidaESdEp3b3",
      "include_colab_link": true
    },
    "kernelspec": {
      "name": "python3",
      "display_name": "Python 3"
    },
    "language_info": {
      "name": "python"
    }
  },
  "cells": [
    {
      "cell_type": "markdown",
      "metadata": {
        "id": "view-in-github",
        "colab_type": "text"
      },
      "source": [
        "<a href=\"https://colab.research.google.com/github/regza22/nikitakotov/blob/main/25_12_2024_%D0%9A%D0%BE%D1%82%D0%BE%D0%B2_%D0%91%D0%98%D0%9A_24_%D0%98%D0%92_1.ipynb\" target=\"_parent\"><img src=\"https://colab.research.google.com/assets/colab-badge.svg\" alt=\"Open In Colab\"/></a>"
      ]
    },
    {
      "cell_type": "markdown",
      "source": [
        "Задание №1"
      ],
      "metadata": {
        "id": "nQMZ-vXoQqVk"
      }
    },
    {
      "cell_type": "code",
      "source": [
        "list = []\n",
        "while True:\n",
        "  num = int(input(\"Введите: \"))\n",
        "  if num != 0:\n",
        "    list.append(num)\n",
        "  if num == 0:\n",
        "    break\n",
        "\n",
        "def summ():\n",
        "  a = 0\n",
        "  for arg in list:\n",
        "    a = arg + a\n",
        "  return a\n",
        "\n",
        "result = summ()\n",
        "print(result)"
      ],
      "metadata": {
        "id": "fDxF_RgCQrf_"
      },
      "execution_count": null,
      "outputs": []
    },
    {
      "cell_type": "markdown",
      "source": [
        "Задание №2"
      ],
      "metadata": {
        "id": "jyu3_xYTQwGN"
      }
    },
    {
      "cell_type": "code",
      "source": [
        "def data_collect():\n",
        "  data = []\n",
        "  while True:\n",
        "    entered = input('Введите 0-0 для завершения: ')\n",
        "    if entered == \"0-0\":\n",
        "      break\n",
        "    name, phone = entered.split('-')\n",
        "    data.append((name, int(phone)))\n",
        "    return data_collect()\n",
        "\n",
        "def num_sort(data):\n",
        "  return sorted(data)\n",
        "\n",
        "#def name_sort(data):\n",
        "# return sorted()\n",
        "\n",
        "data = data_collect()\n",
        "\n",
        "sorted_numbers = num_sort(data)\n",
        "#sorted_names = name_sort(data)\n",
        "\n",
        "print(sorted_numbers)\n",
        "#print(sorted_names)\n",
        "#print(data)"
      ],
      "metadata": {
        "id": "7t4M7Tw4QxHD"
      },
      "execution_count": null,
      "outputs": []
    },
    {
      "cell_type": "markdown",
      "source": [
        "Задание №3"
      ],
      "metadata": {
        "id": "Df2wa6xHRAOP"
      }
    },
    {
      "cell_type": "code",
      "source": [
        "def sum_numbers():\n",
        "    total = 0\n",
        "    while (number := int(input(\"Введите число : \"))) != 0:\n",
        "        total += number\n",
        "    print(f\"Сумма введенных чисел: {total}\")\n",
        "sum_numbers()"
      ],
      "metadata": {
        "id": "nrcIHI5XRBeL"
      },
      "execution_count": null,
      "outputs": []
    }
  ]
}