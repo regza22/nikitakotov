{
  "nbformat": 4,
  "nbformat_minor": 0,
  "metadata": {
    "colab": {
      "provenance": [],
      "authorship_tag": "ABX9TyNArnfvuhH05owAvldT0+28",
      "include_colab_link": true
    },
    "kernelspec": {
      "name": "python3",
      "display_name": "Python 3"
    },
    "language_info": {
      "name": "python"
    }
  },
  "cells": [
    {
      "cell_type": "markdown",
      "metadata": {
        "id": "view-in-github",
        "colab_type": "text"
      },
      "source": [
        "<a href=\"https://colab.research.google.com/github/regza22/nikitakotov/blob/main/%D0%9B%D0%B0%D0%B1%D0%BE%D1%80%D0%B0%D1%82%D0%BE%D1%80%D0%BD%D0%B0%D1%8F_4_%D1%81%D0%B5%D0%BC%D0%B5%D1%81%D1%82%D1%80_2.ipynb\" target=\"_parent\"><img src=\"https://colab.research.google.com/assets/colab-badge.svg\" alt=\"Open In Colab\"/></a>"
      ]
    },
    {
      "cell_type": "markdown",
      "source": [
        "Задание 1"
      ],
      "metadata": {
        "id": "rMEmpMo3vgPW"
      }
    },
    {
      "cell_type": "code",
      "source": [
        "temp = float(input(\"Введите температуру в помещении: \"))\n",
        "\n",
        "if temp >= 20:\n",
        "    print(\"Кондиционер выключается.\")\n",
        "else:\n",
        "    print(\"Кондиционер включается.\")"
      ],
      "metadata": {
        "id": "AA_1OSquvgUL"
      },
      "execution_count": null,
      "outputs": []
    },
    {
      "cell_type": "markdown",
      "source": [
        "Задание 2"
      ],
      "metadata": {
        "id": "xHjEZXP_vgaN"
      }
    },
    {
      "cell_type": "code",
      "source": [
        "month_number = int(input(\"Введите номер месяца (от 1 до 12): \"))\n",
        "\n",
        "if month_number in [12, 1, 2]:\n",
        "    season = 'Зима'\n",
        "elif month_number in [3, 4, 5]:\n",
        "    season = 'Весна'\n",
        "elif month_number in [6, 7, 8]:\n",
        "    season = 'Лето'\n",
        "elif month_number in [9, 10, 11]:\n",
        "    season = 'Осень'\n",
        "else:\n",
        "    print('Неверный номер месяца.')\n",
        "    exit()\n",
        "\n",
        "print(f'Это месяц принадлежит сезону \"{season}\".')"
      ],
      "metadata": {
        "id": "x7SMZkhuvgfU"
      },
      "execution_count": null,
      "outputs": []
    },
    {
      "cell_type": "markdown",
      "source": [
        "Задание 3"
      ],
      "metadata": {
        "id": "_2ko3nlzvglK"
      }
    },
    {
      "cell_type": "code",
      "source": [
        "dog_age = input(\"Введите возраст вашей собаки: \")\n",
        "\n",
        "try:\n",
        "    dog_age = float(dog_age)\n",
        "except ValueError:\n",
        "    print(\"Возраст должен быть числом.\")\n",
        "    exit()\n",
        "\n",
        "if dog_age < 1:\n",
        "    print(\"Возраст собаки должен быть больше нуля.\")\n",
        "elif dog_age > 22:\n",
        "    print(\"Максимально допустимый возраст собаки - 22 года.\")\n",
        "else:\n",
        "    # Первый вариант расчета возраста\n",
        "    if dog_age <= 2:\n",
        "        human_years = dog_age * 10.5\n",
        "    else:\n",
        "        human_years = 21 + (dog_age - 2) * 4\n",
        "\n",
        "    print(f\"Вашей собаке примерно {human_years:.1f} человеческих лет.\")"
      ],
      "metadata": {
        "id": "2fnPmInlvgp9"
      },
      "execution_count": null,
      "outputs": []
    },
    {
      "cell_type": "markdown",
      "source": [
        "Задание 4"
      ],
      "metadata": {
        "id": "a_OI5LtOvv-C"
      }
    },
    {
      "cell_type": "code",
      "source": [
        "number = input(\"Введите целое число: \")\n",
        "\n",
        "# Проверяем, является ли строка целым числом\n",
        "if not number.isdigit():\n",
        "    print(\"Нужно ввести положительное целое число.\")\n",
        "    exit()\n",
        "\n",
        "number = int(number)\n",
        "last_digit = number % 10\n",
        "\n",
        "# Суммируем цифры числа\n",
        "digits_sum = sum(int(digit) for digit in str(number))\n",
        "\n",
        "# Проверка условия делимости на 6\n",
        "if last_digit % 2 == 0 and digits_sum % 3 == 0:\n",
        "    print(f\"Число {number} делится на 6.\")\n",
        "else:\n",
        "    print(f\"Число {number} не делится на 6.\")"
      ],
      "metadata": {
        "id": "6-xQTmvEvwCW"
      },
      "execution_count": null,
      "outputs": []
    },
    {
      "cell_type": "markdown",
      "source": [
        "Задание 5"
      ],
      "metadata": {
        "id": "B7qwXmPCvwGJ"
      }
    },
    {
      "cell_type": "code",
      "source": [
        "password = input(\"Введите пароль: \")\n",
        "\n",
        "valid_length = False\n",
        "has_uppercase = False\n",
        "has_lowercase = False\n",
        "has_digits = False\n",
        "has_special_chars = False\n",
        "\n",
        "# Проверка длины пароля\n",
        "if len(password) >= 8:\n",
        "    valid_length = True\n",
        "for char in password:\n",
        "    if char.isupper():\n",
        "        has_uppercase = True\n",
        "    elif char.islower():\n",
        "        has_lowercase = True\n",
        "    elif char.isdigit():\n",
        "        has_digits = True\n",
        "    elif not char.isalnum():\n",
        "        has_special_chars = True\n",
        "errors = []\n",
        "\n",
        "if not valid_length:\n",
        "    errors.append(\"Пароль слишком короткий (менее 8 символов).\")\n",
        "\n",
        "if not has_uppercase:\n",
        "    errors.append(\"Отсутствуют заглавные буквы.\")\n",
        "\n",
        "if not has_lowercase:\n",
        "    errors.append(\"Отсутствуют строчные буквы.\")\n",
        "\n",
        "if not has_digits:\n",
        "    errors.append(\"Нет цифр.\")\n",
        "\n",
        "if not has_special_chars:\n",
        "    errors.append(\"Нет специальных символов.\")\n",
        "if len(errors) == 0:\n",
        "    print(\"Ваш пароль надежен!\")\n",
        "else:\n",
        "    print(\"Ваш пароль недостаточно надежен:\")\n",
        "    for error in errors:\n",
        "        print(error)"
      ],
      "metadata": {
        "colab": {
          "base_uri": "https://localhost:8080/"
        },
        "id": "ekXrjUnQvwJp",
        "outputId": "54286cf2-5b7d-4cd6-b2cd-0ce1e2eda1b1"
      },
      "execution_count": 1,
      "outputs": [
        {
          "output_type": "stream",
          "name": "stdout",
          "text": [
            "Введите пароль: 23афы23ап!\n",
            "Ваш пароль недостаточно надежен:\n",
            "Отсутствуют заглавные буквы.\n"
          ]
        }
      ]
    }
  ]
}